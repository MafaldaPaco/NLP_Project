{
 "cells": [
  {
   "attachments": {},
   "cell_type": "markdown",
   "metadata": {},
   "source": [
    "# Text Mining Project 2022/23, NOVA IMS, MDSAA"
   ]
  },
  {
   "attachments": {},
   "cell_type": "markdown",
   "metadata": {},
   "source": [
    "# Group 15\n",
    "\n",
    "## Authors: \n",
    "**Adriana Monteiro 20220604\\\n",
    "Mafalda Paço 20220619\\\n",
    "Marta Dinis 20220611\\\n",
    "Patricia Morais 20220638**\n"
   ]
  },
  {
   "attachments": {},
   "cell_type": "markdown",
   "metadata": {},
   "source": [
    "## Index<a class=\"anchor\" id=\"index\" />\n",
    "\n",
    "1 - [Imports</font>](#topic01) <br>\n",
    "2 - [Functions to handle data](#topic02) <br>\n",
    ">    2.1 [Preprocess functions](#topic02.01) <br>\n",
    "    2.2 [Other functions](#topic02.02) <br>\n",
    "\n",
    "3 - [Import and Preprocess data](#topic03) <br>\n",
    "4 - [TF-IDF](#topic04) <br>\n",
    ">   4.1 [TF-IDF without reviews](#topic04.01) <br>\n",
    "    4.2 [TF-IDF functions](#topic04.02) <br>\n",
    "    \n",
    "5 - [GloVe Embeddings](#topic05) <br>\n",
    ">   5.1 [GloVe without reviews](#topic05.01) <br>\n",
    "    5.2 [GloVe with reviews](#topic05.02) <br>\n",
    "    \n",
    "6 - [FastText Embeddings](#topic06) <br>\n",
    ">   6.1 [FastText without reviews](#topic06.01) <br>\n",
    "\n",
    "7 - [Test predictions](#topic07) <br>"
   ]
  },
  {
   "attachments": {},
   "cell_type": "markdown",
   "metadata": {},
   "source": [
    "<a class=\"anchor\" id=\"topic01\" /><br>\n",
    "# Step 1: Import of all needed libraries\n",
    "[Back to Index](#index)"
   ]
  },
  {
   "cell_type": "code",
   "execution_count": null,
   "metadata": {},
   "outputs": [],
   "source": [
    "#!pip install vaderSentiment\n",
    "#!pip install wordcloud\n",
    "#!pip install pysentimiento\n",
    "#!pip install vaderSentiment-fr\n",
    "#!pip install imbalanced-learn\n",
    "#!pip install gensim"
   ]
  },
  {
   "cell_type": "code",
   "execution_count": 1,
   "metadata": {},
   "outputs": [],
   "source": [
    "import torch\n",
    "import torch.nn as nn\n",
    "import torch.optim as optim\n",
    "\n",
    "#from torchtext.legacy.datasets import Multi30k\n",
    "#from torchtext.legacy.data import Field, BucketIterator\n",
    "\n",
    "import spacy\n",
    "from spacy.language import Language\n",
    "from spacy_language_detection import LanguageDetector\n",
    "\n",
    "import numpy as np\n",
    "import pandas as pd\n",
    "import matplotlib.pyplot as plt\n",
    "import string\n",
    "import re\n",
    "#!pip install emoji\n",
    "import emoji\n",
    "#!pip install contractions\n",
    "import contractions\n",
    "import nltk\n",
    "from nltk.corpus import stopwords\n",
    "from nltk.tokenize import word_tokenize\n",
    "#!python -m spacy download pt_core_news_sm\n",
    "# !python -m spacy download fr_core_news_sm\n",
    "# !python -m spacy download en_core_web_sm\n",
    "\n",
    "import random\n",
    "import math\n",
    "import time\n",
    "\n",
    "from sklearn.feature_extraction.text import CountVectorizer\n",
    "from sklearn.neighbors import KNeighborsClassifier\n",
    "\n",
    "import warnings\n",
    "warnings.filterwarnings(\"ignore\")\n",
    "\n",
    "import tqdm\n",
    "from wordcloud import WordCloud\n",
    "from wordcloud import ImageColorGenerator\n",
    "from collections import Counter\n",
    "import seaborn as sns\n",
    "from sklearn.model_selection import train_test_split\n",
    "from sklearn.metrics import classification_report\n",
    "from sklearn.feature_extraction.text import TfidfVectorizer\n",
    "from sklearn.metrics import balanced_accuracy_score, f1_score, recall_score, precision_score, roc_auc_score\n",
    "from sklearn.metrics import confusion_matrix\n",
    "\n",
    "from vaderSentiment.vaderSentiment import SentimentIntensityAnalyzer as siden\n",
    "from pysentimiento import create_analyzer\n",
    "from vaderSentiment_fr.vaderSentiment import SentimentIntensityAnalyzer as sidfr\n",
    "from sklearn.ensemble import RandomForestClassifier\n",
    "from sklearn.linear_model import LogisticRegression\n",
    "from sklearn.neural_network import MLPClassifier\n",
    "from sklearn.model_selection import GridSearchCV\n",
    "import pandas as pd\n",
    "from sklearn.feature_extraction.text import TfidfVectorizer\n",
    "from sklearn.preprocessing import FunctionTransformer\n",
    "from sklearn.pipeline import FeatureUnion, Pipeline\n",
    "from sklearn.naive_bayes import GaussianNB\n",
    "import torchtext.vocab as vocab\n",
    "import gensim.downloader\n",
    "from imblearn.ensemble import BalancedRandomForestClassifier\n",
    "from scipy import sparse"
   ]
  },
  {
   "attachments": {},
   "cell_type": "markdown",
   "metadata": {},
   "source": [
    "<a class=\"anchor\" id=\"topic02\" /><br>\n",
    "# Step 2: Define functions to handle data\n",
    "[Back to Index](#index)"
   ]
  },
  {
   "attachments": {},
   "cell_type": "markdown",
   "metadata": {},
   "source": [
    "<a class=\"anchor\" id=\"topic02.01\" /><br>\n",
    "## 2.1 Preprocess functions"
   ]
  },
  {
   "attachments": {},
   "cell_type": "markdown",
   "metadata": {},
   "source": [
    "### 2.1.1 Remove Html"
   ]
  },
  {
   "cell_type": "code",
   "execution_count": 2,
   "metadata": {},
   "outputs": [],
   "source": [
    "CLEANR = re.compile('<.*?>|&([a-z0-9]+|#[0-9]{1,6}|#x[0-9a-f]{1,6});')\n",
    "\n",
    "def cleanhtml(dataframe):\n",
    "    dataframe_cleaned = dataframe.copy()\n",
    "    for column in dataframe_cleaned.columns:\n",
    "        if column in text_columns_reviews+text_columns_airbnb:\n",
    "            dataframe_cleaned[column] = dataframe_cleaned[column].apply(lambda x: re.sub(CLEANR, ' ', x))\n",
    "            dataframe_cleaned[column] = dataframe_cleaned[column].str.replace('\\n', '')\n",
    "    \n",
    "    dataframe_cleaned.reset_index(drop=True, inplace = True)\n",
    "    return dataframe_cleaned"
   ]
  },
  {
   "attachments": {},
   "cell_type": "markdown",
   "metadata": {},
   "source": [
    "### 2.1.2 Lowercasing"
   ]
  },
  {
   "cell_type": "code",
   "execution_count": 3,
   "metadata": {},
   "outputs": [],
   "source": [
    "def lowercasing(dataframe):\n",
    "    dataframe_lowercased = dataframe.copy()\n",
    "    for column in dataframe_lowercased.columns:\n",
    "        if column in text_columns_reviews+text_columns_airbnb:\n",
    "            dataframe_lowercased[column] = dataframe_lowercased[column].str.lower()\n",
    "    \n",
    "    dataframe_lowercased.reset_index(drop=True, inplace = True)\n",
    "\n",
    "    return dataframe_lowercased"
   ]
  },
  {
   "attachments": {},
   "cell_type": "markdown",
   "metadata": {},
   "source": [
    "### 2.1.3 Remove punctuation"
   ]
  },
  {
   "cell_type": "code",
   "execution_count": 4,
   "metadata": {},
   "outputs": [],
   "source": [
    "def remove_punctuation(dataframe):\n",
    "    dataframe_unpunctuation = dataframe.copy()\n",
    "    for column in dataframe_unpunctuation.columns:\n",
    "        if column in text_columns_reviews + text_columns_airbnb:\n",
    "            dataframe_unpunctuation[column] = dataframe_unpunctuation[column].str.replace(f\"[{re.escape(string.punctuation)}]\", ' ')\n",
    "            dataframe_unpunctuation[column] = dataframe_unpunctuation[column].str.replace(' +', ' ')\n",
    "            dataframe_unpunctuation[column] = dataframe_unpunctuation[column].apply(lambda x: str(x).encode(\"ascii\", \"ignore\").decode())\n",
    "    dataframe_unpunctuation.reset_index(drop=True, inplace = True)\n",
    "    return dataframe_unpunctuation"
   ]
  },
  {
   "attachments": {},
   "cell_type": "markdown",
   "metadata": {},
   "source": [
    "### 2.1.4 Remove empty"
   ]
  },
  {
   "cell_type": "code",
   "execution_count": 5,
   "metadata": {},
   "outputs": [],
   "source": [
    "def remove_empty(dataframe):\n",
    "    dataframe_noempty = dataframe.copy()\n",
    "    for column in dataframe_noempty.columns:\n",
    "        dataframe_noempty[column].replace('', np.nan, inplace=True)\n",
    "        dataframe_noempty.replace(r'^\\s+$', np.nan, regex=True, inplace = True) \n",
    "        dataframe_noempty.dropna(subset=[column], inplace=True)\n",
    "    dataframe_noempty.reset_index(drop=True, inplace = True)\n",
    "    return dataframe_noempty"
   ]
  },
  {
   "attachments": {},
   "cell_type": "markdown",
   "metadata": {},
   "source": [
    "### 2.1.5 Remove emojis"
   ]
  },
  {
   "cell_type": "code",
   "execution_count": 6,
   "metadata": {},
   "outputs": [],
   "source": [
    "def remove_emoji(dataframe, columns):\n",
    "    dataframe_unemoji = dataframe.copy()\n",
    "    for column in columns:\n",
    "        dataframe_unemoji[column] = dataframe_unemoji[column].apply(lambda s: emoji.replace_emoji(s, ''))\n",
    "    dataframe_unemoji.reset_index(drop=True, inplace = True)\n",
    "    return dataframe_unemoji"
   ]
  },
  {
   "attachments": {},
   "cell_type": "markdown",
   "metadata": {},
   "source": [
    "### 2.1.6  Replace emojis"
   ]
  },
  {
   "cell_type": "code",
   "execution_count": 7,
   "metadata": {},
   "outputs": [],
   "source": [
    "def convert_emoji(dataframe, columns):\n",
    "    dataframe_reemoji = dataframe.copy()\n",
    "\n",
    "    for column in columns:\n",
    "        index= 0\n",
    "        for row in dataframe_reemoji[column]:\n",
    "            if dataframe_reemoji[column+\"_lang\"][index] == \"en\":\n",
    "                dataframe_reemoji[column][index] = emoji.demojize(dataframe_reemoji[column][index])\n",
    "            elif dataframe_reemoji[column+\"_lang\"][index] == \"pt\":\n",
    "                dataframe_reemoji[column][index] = emoji.demojize(dataframe_reemoji[column][index], language='pt')\n",
    "            elif dataframe_reemoji[column+\"_lang\"][index] == \"fr\":\n",
    "                dataframe_reemoji[column][index] = emoji.demojize(dataframe_reemoji[column][index], language='fr')\n",
    "            else:\n",
    "                dataframe_reemoji[column][index] = emoji.replace_emoji(dataframe_reemoji[column][index], '')\n",
    "            index+=1\n",
    "    dataframe_reemoji.reset_index(drop=True, inplace = True)\n",
    "    return dataframe_reemoji"
   ]
  },
  {
   "attachments": {},
   "cell_type": "markdown",
   "metadata": {},
   "source": [
    "### 2.1.7  Expand contractions"
   ]
  },
  {
   "cell_type": "code",
   "execution_count": 8,
   "metadata": {},
   "outputs": [],
   "source": [
    "def expand_contractions(dataframe):\n",
    "    dataframe_contractions = dataframe.copy()\n",
    "    \n",
    "    def remove_cont(text):\n",
    "        expanded_words = []   \n",
    "        for word in text.split():\n",
    "            expanded_words.append(contractions.fix(word)) \n",
    "        return ' '.join(expanded_words)\n",
    "        \n",
    "    for column in dataframe_contractions.columns:\n",
    "        if column in text_columns_reviews + text_columns_airbnb:\n",
    "            dataframe_contractions[column] = dataframe_contractions[column].apply(remove_cont)\n",
    "            dataframe_contractions[column] = dataframe_contractions[column].str.replace('’s', '')\n",
    "    dataframe_contractions.reset_index(drop=True, inplace = True)\n",
    "    return dataframe_contractions"
   ]
  },
  {
   "attachments": {},
   "cell_type": "markdown",
   "metadata": {},
   "source": [
    "### 2.1.8  Remove patterns of digits"
   ]
  },
  {
   "cell_type": "code",
   "execution_count": 9,
   "metadata": {},
   "outputs": [],
   "source": [
    "def remove_digits(dataframe, columns):\n",
    "    dataframe_digits = dataframe.copy()\n",
    "    for column in columns:\n",
    "        dataframe_digits[column] = dataframe_digits[column].apply(lambda x: x.replace(\"x000d \", \"\"))\n",
    "        dataframe_digits[column] = dataframe_digits[column].apply(lambda x: re.sub(r'\\d+', '', x))\n",
    "    dataframe_digits.reset_index(drop=True, inplace = True)\n",
    "    return dataframe_digits"
   ]
  },
  {
   "attachments": {},
   "cell_type": "markdown",
   "metadata": {},
   "source": [
    "### 2.1.9  Removing stopwords"
   ]
  },
  {
   "cell_type": "code",
   "execution_count": 10,
   "metadata": {},
   "outputs": [],
   "source": [
    "def remove_stopwords(dataframe, columns):\n",
    "    dataframe_stop= dataframe.copy()\n",
    "    stopwords_pt = nltk.corpus.stopwords.words('portuguese')\n",
    "    stopwords_en = nltk.corpus.stopwords.words('english')\n",
    "    stopwords_fr = nltk.corpus.stopwords.words('french')\n",
    "    for column in columns:\n",
    "        counter= 0\n",
    "        for row in dataframe_stop[column]:\n",
    "            if dataframe_stop[column+\"_lang\"][counter] == \"en\":\n",
    "                dataframe_stop[column][counter] = \" \".join([word for word in str(row).split() if word not in stopwords_en])  \n",
    "            elif dataframe_stop[column+\"_lang\"][counter] == \"pt\":\n",
    "                dataframe_stop[column][counter] = \" \".join([word for word in str(row).split() if word not in stopwords_pt])\n",
    "            elif dataframe_stop[column+\"_lang\"][counter] == \"fr\":\n",
    "                dataframe_stop[column][counter] = \" \".join([word for word in str(row).split() if word not in stopwords_fr])\n",
    "            else:\n",
    "                dataframe_stop[column][counter] = dataframe_stop[column][counter]\n",
    "            counter+=1\n",
    "    \n",
    "    dataframe_stop.reset_index(drop=True, inplace = True)\n",
    "\n",
    "    return dataframe_stop"
   ]
  },
  {
   "attachments": {},
   "cell_type": "markdown",
   "metadata": {},
   "source": [
    "### 2.1.10  Tokenization"
   ]
  },
  {
   "cell_type": "code",
   "execution_count": 11,
   "metadata": {},
   "outputs": [],
   "source": [
    "def tokenize(dataframe, columns):\n",
    "    indexes = dataframe.index.tolist()\n",
    "    dataframe_token= dataframe.copy()\n",
    "    for column in columns:\n",
    "        counter= 0\n",
    "        for row in dataframe_token[column]:\n",
    "            if dataframe_token[column+\"_lang\"][indexes[counter]] == \"en\":\n",
    "                dataframe_token[column][indexes[counter]] = word_tokenize(row, language='english')     \n",
    "            elif dataframe_token[column+\"_lang\"][indexes[counter]] == \"pt\":\n",
    "                dataframe_token[column][indexes[counter]] = word_tokenize(row, language='portuguese') \n",
    "            elif dataframe_token[column+\"_lang\"][indexes[counter]] == \"fr\":\n",
    "                dataframe_token[column][indexes[counter]] = word_tokenize(row, language='french') \n",
    "            else:\n",
    "                dataframe_token[column][indexes[counter]] = row.split()\n",
    "            counter+=1\n",
    "    \n",
    "    return dataframe_token"
   ]
  },
  {
   "attachments": {},
   "cell_type": "markdown",
   "metadata": {},
   "source": [
    "### 2.1.11  Lemmatization"
   ]
  },
  {
   "cell_type": "code",
   "execution_count": 12,
   "metadata": {},
   "outputs": [],
   "source": [
    "def lemmatize(dataframe, columns):\n",
    "    dataframe_lemmas = dataframe.copy()\n",
    "    \n",
    "    nlp_en = spacy.load(\"en_core_web_sm\")\n",
    "    nlp_pt = spacy.load(\"pt_core_news_sm\")\n",
    "    nlp_fr = spacy.load(\"fr_core_news_sm\")\n",
    "    nlp_fr = spacy.load(\"fr_core_news_sm\")\n",
    "    \n",
    "    for column in columns:\n",
    "        counter = 0\n",
    "        \n",
    "        for row in dataframe_lemmas[column]:\n",
    "            if dataframe_lemmas[column+\"_lang\"][counter] == \"en\":\n",
    "                doc = nlp_en(row)\n",
    "                dataframe_lemmas[column][counter] = ' '.join([token.lemma_ for token in doc])  \n",
    "            elif dataframe_lemmas[column+\"_lang\"][counter] == \"pt\":\n",
    "                doc = nlp_pt(row)\n",
    "                dataframe_lemmas[column][counter] =  ' '.join([token.lemma_ for token in doc])\n",
    "            elif dataframe_lemmas[column+\"_lang\"][counter] == \"fr\":\n",
    "                doc = nlp_fr(row)\n",
    "                dataframe_lemmas[column][counter] =  ' '.join([token.lemma_ for token in doc])\n",
    "            else:\n",
    "                dataframe_lemmas[column][counter] = dataframe_lemmas[column][counter]\n",
    "            counter += 1\n",
    "    dataframe_lemmas.reset_index(drop=True, inplace = True)\n",
    "\n",
    "    return dataframe_lemmas"
   ]
  },
  {
   "attachments": {},
   "cell_type": "markdown",
   "metadata": {},
   "source": [
    "### 2.1.12  Detect Language"
   ]
  },
  {
   "cell_type": "code",
   "execution_count": 13,
   "metadata": {},
   "outputs": [
    {
     "data": {
      "text/plain": [
       "<spacy_language_detection.spacy_language_detector.LanguageDetector at 0x2e2e90f70>"
      ]
     },
     "execution_count": 13,
     "metadata": {},
     "output_type": "execute_result"
    }
   ],
   "source": [
    "#!python -m spacy download en_core_web_sm\n",
    "def get_lang_detector(nlp, name):\n",
    "    return LanguageDetector(seed=42)  # We use the seed 42\n",
    "\n",
    "nlp_model = spacy.load(\"en_core_web_sm\")\n",
    "Language.factory(\"language_detector\", func=get_lang_detector)\n",
    "nlp_model.add_pipe('language_detector', last=True)"
   ]
  },
  {
   "cell_type": "code",
   "execution_count": 14,
   "metadata": {},
   "outputs": [],
   "source": [
    "def detect_language(dataframe, columns):\n",
    "    dataframe_lang = dataframe.copy()\n",
    "    \n",
    "    def dl(text):\n",
    "        doc = nlp_model(text)\n",
    "        lang = None\n",
    "        for sent in doc.sents:\n",
    "            lang = sent._.language['language']\n",
    "        return lang  # Return the language for the first sentence\n",
    "    \n",
    "    for column in columns:\n",
    "        dataframe_lang[column+'_lang'] = dataframe_lang[column].apply(dl)\n",
    "    \n",
    "    dataframe_lang.reset_index(drop=True, inplace = True)\n",
    "    \n",
    "    return dataframe_lang"
   ]
  },
  {
   "attachments": {},
   "cell_type": "markdown",
   "metadata": {},
   "source": [
    "<a class=\"anchor\" id=\"topic02.02\" /><br>\n",
    "## 2.2 Other functions"
   ]
  },
  {
   "attachments": {},
   "cell_type": "markdown",
   "metadata": {},
   "source": [
    "### 2.2.1 Sentiment Analysis"
   ]
  },
  {
   "cell_type": "code",
   "execution_count": 15,
   "metadata": {},
   "outputs": [],
   "source": [
    "def sentiment_reviews(df, columns):\n",
    "    \n",
    "    dataframe_sentiment = df.copy()\n",
    "    analyser_pt = create_analyzer(task=\"sentiment\", lang=\"pt\")\n",
    "    sid_en = siden()\n",
    "    sid_fr = sidfr()\n",
    "    sentiment = []\n",
    "\n",
    "    for column in columns:\n",
    "        counter = 0\n",
    "        total_rows = len(dataframe_sentiment[column])\n",
    "\n",
    "        for row in tqdm.tqdm(dataframe_sentiment[column], total=total_rows, desc=f\"Sentiment Analysis of {column}\"):\n",
    "\n",
    "            if dataframe_sentiment[column+\"_lang\"][counter] == \"en\":\n",
    "                score = sid_en.polarity_scores(dataframe_sentiment[column][counter])['compound']\n",
    "                if score >= 0.05:\n",
    "                    sentiment.append(1)\n",
    "                elif score <= -0.05:\n",
    "                    sentiment.append(-1)\n",
    "                elif -0.05 < score < 0.05:\n",
    "                    sentiment.append(0)\n",
    "                \n",
    "   \n",
    "            elif dataframe_sentiment[column+\"_lang\"][counter] == \"pt\":\n",
    "                score = analyser_pt.predict(dataframe_sentiment[column][counter]).output\n",
    "                if score == 'POS':\n",
    "                    sentiment.append(1)\n",
    "                elif score == 'NEG':\n",
    "                    sentiment.append(-1)\n",
    "                elif score == 'NEU':\n",
    "                    sentiment.append(0)\n",
    "            \n",
    "\n",
    "            elif dataframe_sentiment[column+\"_lang\"][counter] == \"fr\":\n",
    "                score = sid_fr.polarity_scores(dataframe_sentiment[column][counter])['compound']\n",
    "                if score >= 0.05:\n",
    "                    sentiment.append(1)\n",
    "                elif score <= -0.05:\n",
    "                    sentiment.append(-1)\n",
    "                elif -0.05 < score < 0.05:\n",
    "                    sentiment.append(0)\n",
    "            \n",
    "            else:\n",
    "                sentiment.append(0)\n",
    "            \n",
    "            counter += 1\n",
    "\n",
    "    dataframe_sentiment['sentiment'] = sentiment\n",
    "    \n",
    "    return dataframe_sentiment"
   ]
  },
  {
   "attachments": {},
   "cell_type": "markdown",
   "metadata": {},
   "source": [
    "### 2.2.2 Pipeline to clean data"
   ]
  },
  {
   "cell_type": "code",
   "execution_count": 16,
   "metadata": {},
   "outputs": [],
   "source": [
    "def pipelinefunc(data, columns, html=True, lowercase=True, puntuation=True, empty=False, removeemoji=True, conv_emoji=True,\n",
    "                 detectlanguage=True, filterlang = False, contraction=True, digits=True, stopwords=True, tokenize=True, Lemmatize=True):\n",
    "\n",
    "    data_pipe=data.copy()\n",
    "    if html:\n",
    "        data_pipe = cleanhtml(data_pipe)\n",
    "        print('html done')\n",
    "    if lowercase:\n",
    "        data_pipe = lowercasing(data_pipe)\n",
    "        print('lowercase done')\n",
    "    if contraction:\n",
    "        data_pipe = expand_contractions(data_pipe)\n",
    "        print('contraction done')\n",
    "    if puntuation:\n",
    "        data_pipe = remove_punctuation(data_pipe)\n",
    "        print('punctuation done')\n",
    "    if empty:\n",
    "        data_pipe = remove_empty(data_pipe)\n",
    "        print('empty done')\n",
    "    if removeemoji:\n",
    "        data_pipe = remove_emoji(data_pipe, columns) #['description','host_about']\n",
    "        print('remove_emoji done')\n",
    "    if detectlanguage:\n",
    "        data_pipe = detect_language(data_pipe, columns) #['description','host_about'] or ['comments']\n",
    "        print('detect_language done')\n",
    "    if filterlang:\n",
    "        data_pipe = filter_lang(data_pipe, columns)\n",
    "        print('filter lang done')\n",
    "    if conv_emoji:\n",
    "        data_pipe = convert_emoji(data_pipe, columns) #['comments']\n",
    "        print('conv_emoji done')\n",
    "        data_pipe = remove_punctuation(data_pipe)\n",
    "        print('punctuation 2 done')\n",
    "    if digits:\n",
    "        data_pipe = remove_digits(data_pipe, columns) #['host_about', 'description'] or ['comments']\n",
    "        print('digits done')\n",
    "    if stopwords:\n",
    "        data_pipe = remove_stopwords(data_pipe, columns) #['host_about', 'description'] or ['comments']\n",
    "        print('stopwords done')\n",
    "    if Lemmatize:\n",
    "        data_pipe = lemmatize(data_pipe, columns) #['host_about', 'description'] or ['comments']\n",
    "        print('lematize done')\n",
    "\n",
    "    return data_pipe"
   ]
  },
  {
   "attachments": {},
   "cell_type": "markdown",
   "metadata": {},
   "source": [
    "### 2.2.3 Confusion matrix plot"
   ]
  },
  {
   "cell_type": "code",
   "execution_count": 17,
   "metadata": {},
   "outputs": [],
   "source": [
    "def plot_cm(confusion_matrix : np.array, \n",
    "            classnames : list):\n",
    "    \"\"\"\n",
    "    Function that creates a confusion matrix plot using the Wikipedia convention for the axis. \n",
    "    :param confusion_matrix: confusion matrix that will be plotted\n",
    "    :param classnames: labels of the classes\n",
    "    \n",
    "    Returns:\n",
    "        - Plot of the Confusion Matrix\n",
    "    \"\"\"\n",
    "    \n",
    "    confusionmatrix = confusion_matrix\n",
    "    class_names = classnames             \n",
    "\n",
    "    fig, ax = plt.subplots()\n",
    "    im = plt.imshow(confusionmatrix, cmap=plt.cm.cividis)\n",
    "    plt.colorbar()\n",
    "\n",
    "    # We want to show all ticks...\n",
    "    ax.set_xticks(np.arange(len(class_names)))\n",
    "    ax.set_yticks(np.arange(len(class_names)))\n",
    "    # ... and label them with the respective list entries\n",
    "    ax.set_xticklabels(class_names)\n",
    "    ax.set_yticklabels(class_names)\n",
    "\n",
    "    # Rotate the tick labels and set their alignment.\n",
    "    plt.setp(ax.get_xticklabels(), rotation=45, ha=\"right\",\n",
    "             rotation_mode=\"anchor\")\n",
    "\n",
    "    # Loop over data dimensions and create text annotations.\n",
    "    for i in range(len(class_names)):\n",
    "        for j in range(len(class_names)):\n",
    "            text = ax.text(j, i, confusionmatrix[i, j],\n",
    "\n",
    "                           ha=\"center\", va=\"center\", color=\"w\")\n",
    "    plt.xlabel('Targets')\n",
    "    plt.ylabel('Predictions')\n",
    "    plt.ylim(top=len(class_names)-0.5)  # adjust the top leaving bottom unchanged\n",
    "    plt.ylim(bottom=-0.5)  # adjust the bottom leaving top unchanged\n",
    "    return plt.show()"
   ]
  },
  {
   "attachments": {},
   "cell_type": "markdown",
   "metadata": {},
   "source": [
    "### 2.2.4 Results"
   ]
  },
  {
   "cell_type": "code",
   "execution_count": 18,
   "metadata": {},
   "outputs": [],
   "source": [
    "def apply_model (X_train, y_train, X_val, y_val ,model, metrics = None, plot_confusion_matrix = False, class_report = False, vprint=False):\n",
    "\n",
    "    model_fitted = model.fit(X_train, y_train)\n",
    "    y_train_pred = model_fitted.predict(X_train)\n",
    "    y_val_pred = model_fitted.predict(X_val)\n",
    "\n",
    "    model_scores_train = []\n",
    "    model_scores_val = []\n",
    "    df = pd.DataFrame()\n",
    "    \n",
    "    if plot_confusion_matrix == True:\n",
    "        print('Training confusion matrix:')\n",
    "        plot_cm(confusion_matrix(y_train, y_train_pred), ['Listed', 'Unlisted'])\n",
    "        print('\\n\\n Validation confusion matrix:')\n",
    "        plot_cm(confusion_matrix(y_val, y_val_pred),  ['Listed', 'Unlisted'])\n",
    "\n",
    "    if class_report == True:\n",
    "        print('\\n-------------------------------------------------------------\\n')\n",
    "        print('Training classification report:')\n",
    "        print(classification_report(y_train, y_train_pred))\n",
    "        print('\\n\\nValidation classification report:')\n",
    "        print(classification_report(y_val, y_val_pred))\n",
    "        \n",
    "    if metrics == None:\n",
    "        print('\\n-------------------------------------------------------------\\n')\n",
    "        print('You chose to not output any metrics. Yout options are: [\"balanced_accuracy\", \"f1\", \"recall\", \"precision\", \"roc_auc\"]')\n",
    "\n",
    "    else:\n",
    "        if vprint:\n",
    "            print('\\n-------------------------------------------------------------\\n')\n",
    "            print('The full options are: [\"balanced_accuracy\", \"f1\", \"recall\", \"precision\", \"roc_auc\"]')\n",
    "            print('You chose:', metrics, )\n",
    "        for metric in metrics:\n",
    "            if metric == 'balanced_accuracy':\n",
    "                model_scores_train.append(balanced_accuracy_score(y_train, y_train_pred))\n",
    "                model_scores_val.append(balanced_accuracy_score(y_val, y_val_pred))\n",
    "            if metric == 'f1':\n",
    "                model_scores_train.append(f1_score(y_train, y_train_pred))\n",
    "                model_scores_val.append(f1_score(y_val, y_val_pred))\n",
    "            if metric == 'recall':\n",
    "                model_scores_train.append(recall_score(y_train, y_train_pred))\n",
    "                model_scores_val.append(recall_score(y_val, y_val_pred))\n",
    "            if metric == 'precision':\n",
    "                model_scores_train.append(precision_score(y_train, y_train_pred))\n",
    "                model_scores_val.append(precision_score(y_val, y_val_pred))\n",
    "            if metric == 'roc_auc':\n",
    "                model_scores_train.append(roc_auc_score(y_train, y_train_pred))\n",
    "                model_scores_val.append(roc_auc_score(y_val, y_val_pred))\n",
    "    \n",
    "    df['train'] = model_scores_train\n",
    "    df['val'] = model_scores_val\n",
    "    df['metric'] = metrics\n",
    "    df.set_index('metric', inplace = True)\n",
    "    return df\n"
   ]
  },
  {
   "attachments": {},
   "cell_type": "markdown",
   "metadata": {},
   "source": [
    "<a class=\"anchor\" id=\"topic03\" /><br>\n",
    "# Step 3:Import and Preprocess data\n",
    "[Back to Index](#index)"
   ]
  },
  {
   "attachments": {},
   "cell_type": "markdown",
   "metadata": {},
   "source": [
    "### Importing data"
   ]
  },
  {
   "cell_type": "code",
   "execution_count": 19,
   "metadata": {},
   "outputs": [],
   "source": [
    "# Import data\n",
    "airbnb_df_train = pd.read_excel('../data/train.xlsx')\n",
    "reviews_df_train = pd.read_excel('../data/train_reviews.xlsx')\n",
    "\n",
    "airbnb_df_test = pd.read_excel('../data/test.xlsx')\n",
    "reviews_df_test = pd.read_excel('../data/test_reviews.xlsx')\n",
    "\n",
    "# Set text columns\n",
    "text_columns_airbnb = [\"description\",\"host_about\"]\n",
    "text_columns_reviews = [\"comments\"]\n",
    "\n",
    "# Set text columns as strings\n",
    "airbnb_df_train = airbnb_df_train.astype({'description':'string', 'host_about':'string'})\n",
    "reviews_df_train = reviews_df_train.astype({'comments':'string'})\n"
   ]
  },
  {
   "cell_type": "code",
   "execution_count": 20,
   "metadata": {
    "scrolled": true
   },
   "outputs": [],
   "source": [
    "reviews_sent = reviews_df_train.groupby(['index'])['comments'].apply(' '.join)\n",
    "raw_data = airbnb_df_train.join(reviews_sent)\n",
    "raw_data['comments'] = raw_data['comments'].fillna('')"
   ]
  },
  {
   "attachments": {},
   "cell_type": "markdown",
   "metadata": {},
   "source": [
    "### Train Validation Split"
   ]
  },
  {
   "cell_type": "code",
   "execution_count": null,
   "metadata": {},
   "outputs": [],
   "source": [
    "X_airbnb_train, X_airbnb_val, y_airbnb_train, y_airbnb_val = train_test_split(airbnb_df_train.drop(['unlisted'], axis=1),\n",
    "                                                                              airbnb_df_train['unlisted'],\n",
    "                                                                              test_size=0.2, \n",
    "                                                                              train_size=0.8,\n",
    "                                                                              random_state=42,\n",
    "                                                                              shuffle=True,\n",
    "                                                                              stratify=airbnb_df_train['unlisted'])"
   ]
  },
  {
   "cell_type": "code",
   "execution_count": null,
   "metadata": {
    "scrolled": true
   },
   "outputs": [],
   "source": [
    "len(X_airbnb_train), len(X_airbnb_val), len(y_airbnb_train), len(y_airbnb_val)"
   ]
  },
  {
   "attachments": {},
   "cell_type": "markdown",
   "metadata": {},
   "source": [
    "### Applying the preprocessing pipeline"
   ]
  },
  {
   "attachments": {},
   "cell_type": "markdown",
   "metadata": {},
   "source": [
    "Apply the preprocess pipeline to the airbnb train and val data"
   ]
  },
  {
   "cell_type": "code",
   "execution_count": null,
   "metadata": {},
   "outputs": [],
   "source": [
    "# Airbnb Train\n",
    "X_airbnb_train_clean = pipelinefunc(X_airbnb_train,\n",
    "             columns = text_columns_airbnb,\n",
    "             conv_emoji=False\n",
    "             )\n",
    "X_airbnb_train_clean.fillna('', inplace=True)\n",
    "\n",
    "# Airbnb Validation\n",
    "X_airbnb_val_clean =  pipelinefunc(X_airbnb_val,\n",
    "             columns = text_columns_airbnb,\n",
    "             conv_emoji=False\n",
    "             )\n",
    "X_airbnb_val_clean.fillna('', inplace=True)"
   ]
  },
  {
   "cell_type": "code",
   "execution_count": null,
   "metadata": {},
   "outputs": [],
   "source": [
    "X_airbnb_train_clean.set_index('index', inplace=True)\n",
    "X_airbnb_val_clean.set_index('index', inplace=True)"
   ]
  },
  {
   "attachments": {},
   "cell_type": "markdown",
   "metadata": {},
   "source": [
    "Create the train and val reviews datasets accordingly to the airbnb's indexes in train and val in the airbnb data"
   ]
  },
  {
   "cell_type": "code",
   "execution_count": null,
   "metadata": {},
   "outputs": [],
   "source": [
    "X_reviews_train = reviews_df_train[reviews_df_train['index'].isin(X_airbnb_train.index)]\n",
    "X_reviews_train.reset_index(drop=True, inplace=True)\n",
    "X_reviews_val = reviews_df_train[reviews_df_train['index'].isin(X_airbnb_val.index)]\n",
    "X_reviews_val.reset_index(drop=True, inplace=True)\n",
    "X_reviews_val"
   ]
  },
  {
   "attachments": {},
   "cell_type": "markdown",
   "metadata": {},
   "source": [
    "Apply the preprocess pipeline to the reviews train and val data"
   ]
  },
  {
   "cell_type": "code",
   "execution_count": null,
   "metadata": {},
   "outputs": [],
   "source": [
    "X_reviews_train_clean =  pipelinefunc(X_reviews_train,\n",
    "             columns = text_columns_reviews,\n",
    "             removeemoji=False\n",
    "             )\n",
    "X_reviews_train_clean.fillna('', inplace=True)\n",
    "\n",
    "X_reviews_val_clean =  pipelinefunc(X_reviews_val,\n",
    "             columns = text_columns_reviews,\n",
    "             removeemoji=False\n",
    "             )\n",
    "X_reviews_val_clean.fillna('', inplace=True)"
   ]
  },
  {
   "attachments": {},
   "cell_type": "markdown",
   "metadata": {},
   "source": [
    "Create the sentiment for the reviews train and test data"
   ]
  },
  {
   "cell_type": "code",
   "execution_count": null,
   "metadata": {},
   "outputs": [],
   "source": [
    "X_reviews_train_clean['comments'] = X_reviews_train_clean['comments'].astype('str')\n",
    "X_reviews_val_clean['comments'] = X_reviews_val_clean['comments'].astype('str')\n",
    "\n",
    "reviews_sentiment_train = sentiment_reviews(X_reviews_train_clean,columns=text_columns_reviews)\n",
    "reviews_sentiment_val = sentiment_reviews(X_reviews_val_clean,columns=text_columns_reviews)"
   ]
  },
  {
   "attachments": {},
   "cell_type": "markdown",
   "metadata": {},
   "source": [
    "Group the sentiment by airbnb and performing an average of it"
   ]
  },
  {
   "cell_type": "code",
   "execution_count": 30,
   "metadata": {},
   "outputs": [],
   "source": [
    "reviews_sentiment_train_byIndex = reviews_sentiment_train.groupby('index', as_index=True)['sentiment'].mean()\n",
    "reviews_sentiment_val_byIndex = reviews_sentiment_val.groupby('index', as_index=True)['sentiment'].mean()"
   ]
  },
  {
   "cell_type": "code",
   "execution_count": 31,
   "metadata": {},
   "outputs": [
    {
     "data": {
      "text/html": [
       "<div>\n",
       "<style scoped>\n",
       "    .dataframe tbody tr th:only-of-type {\n",
       "        vertical-align: middle;\n",
       "    }\n",
       "\n",
       "    .dataframe tbody tr th {\n",
       "        vertical-align: top;\n",
       "    }\n",
       "\n",
       "    .dataframe thead th {\n",
       "        text-align: right;\n",
       "    }\n",
       "</style>\n",
       "<table border=\"1\" class=\"dataframe\">\n",
       "  <thead>\n",
       "    <tr style=\"text-align: right;\">\n",
       "      <th></th>\n",
       "      <th>index</th>\n",
       "      <th>description</th>\n",
       "      <th>host_about</th>\n",
       "      <th>description_lang</th>\n",
       "      <th>host_about_lang</th>\n",
       "      <th>sentiment</th>\n",
       "    </tr>\n",
       "  </thead>\n",
       "  <tbody>\n",
       "    <tr>\n",
       "      <th>0</th>\n",
       "      <td>4769</td>\n",
       "      <td>charming apartment first floor typical cascais...</td>\n",
       "      <td>easygoing person always ready present good por...</td>\n",
       "      <td>en</td>\n",
       "      <td>en</td>\n",
       "      <td>0.0</td>\n",
       "    </tr>\n",
       "    <tr>\n",
       "      <th>1</th>\n",
       "      <td>4385</td>\n",
       "      <td>charming villa private pool tennis table withi...</td>\n",
       "      <td>allure villas go spot rent villas apartment to...</td>\n",
       "      <td>en</td>\n",
       "      <td>en</td>\n",
       "      <td>0.0</td>\n",
       "    </tr>\n",
       "    <tr>\n",
       "      <th>2</th>\n",
       "      <td>11858</td>\n",
       "      <td>one bedroom apartment inside modern developmen...</td>\n",
       "      <td>hey goncalo miku host lisbon start holiday ren...</td>\n",
       "      <td>en</td>\n",
       "      <td>en</td>\n",
       "      <td>0.0</td>\n",
       "    </tr>\n",
       "    <tr>\n",
       "      <th>3</th>\n",
       "      <td>1282</td>\n",
       "      <td>apartment heart city prncipe real chiado bairr...</td>\n",
       "      <td>hi laura yo live partner sara two adorable boy...</td>\n",
       "      <td>en</td>\n",
       "      <td>en</td>\n",
       "      <td>0.0</td>\n",
       "    </tr>\n",
       "    <tr>\n",
       "      <th>4</th>\n",
       "      <td>2134</td>\n",
       "      <td>amazing flat two bedroom restauradore lisbon s...</td>\n",
       "      <td>feel like home holiday rental company bear uni...</td>\n",
       "      <td>en</td>\n",
       "      <td>en</td>\n",
       "      <td>0.0</td>\n",
       "    </tr>\n",
       "    <tr>\n",
       "      <th>...</th>\n",
       "      <td>...</td>\n",
       "      <td>...</td>\n",
       "      <td>...</td>\n",
       "      <td>...</td>\n",
       "      <td>...</td>\n",
       "      <td>...</td>\n",
       "    </tr>\n",
       "    <tr>\n",
       "      <th>2495</th>\n",
       "      <td>2649</td>\n",
       "      <td>set stunning seaside location luxury property ...</td>\n",
       "      <td>go someplace new always exciting would adventu...</td>\n",
       "      <td>en</td>\n",
       "      <td>en</td>\n",
       "      <td>0.0</td>\n",
       "    </tr>\n",
       "    <tr>\n",
       "      <th>2496</th>\n",
       "      <td>9003</td>\n",
       "      <td>the apartment in lisbon has  bedrooms and has ...</td>\n",
       "      <td>feel like home holiday rental company bear uni...</td>\n",
       "      <td>tl</td>\n",
       "      <td>en</td>\n",
       "      <td>0.0</td>\n",
       "    </tr>\n",
       "    <tr>\n",
       "      <th>2497</th>\n",
       "      <td>8679</td>\n",
       "      <td>junto palcio s Bento assembleia republicar ant...</td>\n",
       "      <td>old joo vosse espera mostrar Lisboa bom</td>\n",
       "      <td>pt</td>\n",
       "      <td>pt</td>\n",
       "      <td>0.0</td>\n",
       "    </tr>\n",
       "    <tr>\n",
       "      <th>2498</th>\n",
       "      <td>5771</td>\n",
       "      <td>apartment homely think detail feel home away h...</td>\n",
       "      <td>hi mojo team mcpp investment management manage...</td>\n",
       "      <td>en</td>\n",
       "      <td>en</td>\n",
       "      <td>0.0</td>\n",
       "    </tr>\n",
       "    <tr>\n",
       "      <th>2499</th>\n",
       "      <td>2759</td>\n",
       "      <td>barco Marina cascal salo quarto valor apresent...</td>\n",
       "      <td>navegar desde ano campeo nacional vela adorar ...</td>\n",
       "      <td>pt</td>\n",
       "      <td>pt</td>\n",
       "      <td>0.0</td>\n",
       "    </tr>\n",
       "  </tbody>\n",
       "</table>\n",
       "<p>2500 rows × 6 columns</p>\n",
       "</div>"
      ],
      "text/plain": [
       "      index                                        description  \\\n",
       "0      4769  charming apartment first floor typical cascais...   \n",
       "1      4385  charming villa private pool tennis table withi...   \n",
       "2     11858  one bedroom apartment inside modern developmen...   \n",
       "3      1282  apartment heart city prncipe real chiado bairr...   \n",
       "4      2134  amazing flat two bedroom restauradore lisbon s...   \n",
       "...     ...                                                ...   \n",
       "2495   2649  set stunning seaside location luxury property ...   \n",
       "2496   9003  the apartment in lisbon has  bedrooms and has ...   \n",
       "2497   8679  junto palcio s Bento assembleia republicar ant...   \n",
       "2498   5771  apartment homely think detail feel home away h...   \n",
       "2499   2759  barco Marina cascal salo quarto valor apresent...   \n",
       "\n",
       "                                             host_about description_lang  \\\n",
       "0     easygoing person always ready present good por...               en   \n",
       "1     allure villas go spot rent villas apartment to...               en   \n",
       "2     hey goncalo miku host lisbon start holiday ren...               en   \n",
       "3     hi laura yo live partner sara two adorable boy...               en   \n",
       "4     feel like home holiday rental company bear uni...               en   \n",
       "...                                                 ...              ...   \n",
       "2495  go someplace new always exciting would adventu...               en   \n",
       "2496  feel like home holiday rental company bear uni...               tl   \n",
       "2497            old joo vosse espera mostrar Lisboa bom               pt   \n",
       "2498  hi mojo team mcpp investment management manage...               en   \n",
       "2499  navegar desde ano campeo nacional vela adorar ...               pt   \n",
       "\n",
       "     host_about_lang  sentiment  \n",
       "0                 en        0.0  \n",
       "1                 en        0.0  \n",
       "2                 en        0.0  \n",
       "3                 en        0.0  \n",
       "4                 en        0.0  \n",
       "...              ...        ...  \n",
       "2495              en        0.0  \n",
       "2496              en        0.0  \n",
       "2497              pt        0.0  \n",
       "2498              en        0.0  \n",
       "2499              pt        0.0  \n",
       "\n",
       "[2500 rows x 6 columns]"
      ]
     },
     "execution_count": 31,
     "metadata": {},
     "output_type": "execute_result"
    }
   ],
   "source": [
    "X_airbnb_train_clean_sent = X_airbnb_train_clean.join(reviews_sentiment_train_byIndex.rename('sentiment'))\n",
    "X_airbnb_train_clean_sent['sentiment'] = X_airbnb_train_clean_sent['sentiment'].fillna(0)\n",
    "\n",
    "X_airbnb_val_clean_sent = X_airbnb_val_clean.join(reviews_sentiment_val_byIndex.rename('sentiment'))\n",
    "X_airbnb_val_clean_sent['sentiment'] = X_airbnb_val_clean_sent['sentiment'].fillna(0)\n",
    "X_airbnb_val_clean_sent"
   ]
  },
  {
   "attachments": {},
   "cell_type": "markdown",
   "metadata": {},
   "source": [
    "<a class=\"anchor\" id=\"topic04\" /><br>\n",
    "# Step 4: TF-IDF\n",
    "[Back to Index](#index)"
   ]
  },
  {
   "attachments": {},
   "cell_type": "markdown",
   "metadata": {},
   "source": [
    "<a class=\"anchor\" id=\"topic04.01\" /><br>\n",
    "## 4.1 TF-IDF without reviews"
   ]
  },
  {
   "attachments": {},
   "cell_type": "markdown",
   "metadata": {},
   "source": [
    "## Tests with different models"
   ]
  },
  {
   "cell_type": "code",
   "execution_count": 80,
   "metadata": {},
   "outputs": [],
   "source": [
    "def tf_idf(model, class_report=True, plot_confusion_matrix=True):\n",
    "    transformer = FeatureUnion([\n",
    "                    ('host_about_tfidf', \n",
    "                      Pipeline([('extract_field',\n",
    "                                  FunctionTransformer(lambda x: x['host_about'], \n",
    "                                                      validate=False)),\n",
    "                                ('tfidf', \n",
    "                                  TfidfVectorizer())])),\n",
    "                    ('description_tfidf', \n",
    "                      Pipeline([('extract_field', \n",
    "                                  FunctionTransformer(lambda x: x['description'], \n",
    "                                                      validate=False)),\n",
    "                                ('tfidf', \n",
    "                                  TfidfVectorizer())]))]) \n",
    "\n",
    "    tfidf_airbnb_train = transformer.fit_transform(X_airbnb_train_clean)\n",
    "    tfidf_airbnb_val = transformer.transform(X_airbnb_val_clean)\n",
    "    if isinstance(model, GaussianNB):\n",
    "        df = apply_model(X_train=tfidf_airbnb_train.toarray(),y_train=y_airbnb_train, X_val=tfidf_airbnb_val.toarray(), y_val=y_airbnb_val, metrics=['balanced_accuracy','precision','recall', 'f1','roc_auc' ],model = model, class_report=class_report, plot_confusion_matrix=plot_confusion_matrix)\n",
    "    else:\n",
    "        df = apply_model(X_train=tfidf_airbnb_train,y_train=y_airbnb_train, X_val=tfidf_airbnb_val, y_val=y_airbnb_val, metrics=['balanced_accuracy','precision','recall', 'f1','roc_auc' ],model = model, class_report=class_report, plot_confusion_matrix=plot_confusion_matrix)\n",
    "    return df"
   ]
  },
  {
   "attachments": {},
   "cell_type": "markdown",
   "metadata": {},
   "source": [
    "### KNN"
   ]
  },
  {
   "cell_type": "code",
   "execution_count": 25,
   "metadata": {},
   "outputs": [],
   "source": [
    "modelknn = KNeighborsClassifier(n_neighbors = 5, metric = 'cosine', weights = 'distance')"
   ]
  },
  {
   "cell_type": "code",
   "execution_count": 84,
   "metadata": {},
   "outputs": [
    {
     "name": "stdout",
     "output_type": "stream",
     "text": [
      "Training confusion matrix:\n"
     ]
    },
    {
     "data": {
      "image/png": "[encoded data removed]",
      "text/plain": [
       "<Figure size 432x288 with 2 Axes>"
      ]
     },
     "metadata": {
      "needs_background": "light"
     },
     "output_type": "display_data"
    },
    {
     "name": "stdout",
     "output_type": "stream",
     "text": [
      "\n",
      "\n",
      " Validation confusion matrix:\n"
     ]
    },
    {
     "data": {
      "image/png": "[encoded data removed]",
      "text/plain": [
       "<Figure size 432x288 with 2 Axes>"
      ]
     },
     "metadata": {
      "needs_background": "light"
     },
     "output_type": "display_data"
    },
    {
     "name": "stdout",
     "output_type": "stream",
     "text": [
      "\n",
      "-------------------------------------------------------------\n",
      "\n",
      "Training classification report:\n",
      "              precision    recall  f1-score   support\n",
      "\n",
      "           0       1.00      1.00      1.00      7226\n",
      "           1       0.99      0.99      0.99      2770\n",
      "\n",
      "    accuracy                           1.00      9996\n",
      "   macro avg       1.00      0.99      0.99      9996\n",
      "weighted avg       1.00      1.00      1.00      9996\n",
      "\n",
      "\n",
      "\n",
      "Validation classification report:\n",
      "              precision    recall  f1-score   support\n",
      "\n",
      "           0       0.83      0.91      0.87      1807\n",
      "           1       0.69      0.52      0.59       693\n",
      "\n",
      "    accuracy                           0.80      2500\n",
      "   macro avg       0.76      0.71      0.73      2500\n",
      "weighted avg       0.79      0.80      0.79      2500\n",
      "\n"
     ]
    },
    {
     "data": {
      "text/html": [
       "<div>\n",
       "<style scoped>\n",
       "    .dataframe tbody tr th:only-of-type {\n",
       "        vertical-align: middle;\n",
       "    }\n",
       "\n",
       "    .dataframe tbody tr th {\n",
       "        vertical-align: top;\n",
       "    }\n",
       "\n",
       "    .dataframe thead th {\n",
       "        text-align: right;\n",
       "    }\n",
       "</style>\n",
       "<table border=\"1\" class=\"dataframe\">\n",
       "  <thead>\n",
       "    <tr style=\"text-align: right;\">\n",
       "      <th></th>\n",
       "      <th>train</th>\n",
       "      <th>val</th>\n",
       "    </tr>\n",
       "    <tr>\n",
       "      <th>metric</th>\n",
       "      <th></th>\n",
       "      <th></th>\n",
       "    </tr>\n",
       "  </thead>\n",
       "  <tbody>\n",
       "    <tr>\n",
       "      <th>balanced_accuracy</th>\n",
       "      <td>0.993478</td>\n",
       "      <td>0.714302</td>\n",
       "    </tr>\n",
       "    <tr>\n",
       "      <th>precision</th>\n",
       "      <td>0.994194</td>\n",
       "      <td>0.692456</td>\n",
       "    </tr>\n",
       "    <tr>\n",
       "      <th>recall</th>\n",
       "      <td>0.989170</td>\n",
       "      <td>0.516595</td>\n",
       "    </tr>\n",
       "    <tr>\n",
       "      <th>f1</th>\n",
       "      <td>0.991676</td>\n",
       "      <td>0.591736</td>\n",
       "    </tr>\n",
       "    <tr>\n",
       "      <th>roc_auc</th>\n",
       "      <td>0.993478</td>\n",
       "      <td>0.714302</td>\n",
       "    </tr>\n",
       "  </tbody>\n",
       "</table>\n",
       "</div>"
      ],
      "text/plain": [
       "                      train       val\n",
       "metric                               \n",
       "balanced_accuracy  0.993478  0.714302\n",
       "precision          0.994194  0.692456\n",
       "recall             0.989170  0.516595\n",
       "f1                 0.991676  0.591736\n",
       "roc_auc            0.993478  0.714302"
      ]
     },
     "execution_count": 84,
     "metadata": {},
     "output_type": "execute_result"
    }
   ],
   "source": [
    "tf_idf(modelknn)"
   ]
  },
  {
   "attachments": {},
   "cell_type": "markdown",
   "metadata": {},
   "source": [
    "### Multi Layer Perceptron"
   ]
  },
  {
   "cell_type": "code",
   "execution_count": 89,
   "metadata": {},
   "outputs": [],
   "source": [
    "mlp_55 = MLPClassifier(hidden_layer_sizes=(10,5), activation='relu', solver='sgd', learning_rate_init=0.01)"
   ]
  },
  {
   "cell_type": "code",
   "execution_count": 90,
   "metadata": {},
   "outputs": [
    {
     "name": "stdout",
     "output_type": "stream",
     "text": [
      "Training confusion matrix:\n"
     ]
    },
    {
     "data": {
      "image/png": "[encoded data removed]",
      "text/plain": [
       "<Figure size 432x288 with 2 Axes>"
      ]
     },
     "metadata": {
      "needs_background": "light"
     },
     "output_type": "display_data"
    },
    {
     "name": "stdout",
     "output_type": "stream",
     "text": [
      "\n",
      "\n",
      " Validation confusion matrix:\n"
     ]
    },
    {
     "data": {
      "image/png": "[encoded data removed]",
      "text/plain": [
       "<Figure size 432x288 with 2 Axes>"
      ]
     },
     "metadata": {
      "needs_background": "light"
     },
     "output_type": "display_data"
    },
    {
     "name": "stdout",
     "output_type": "stream",
     "text": [
      "\n",
      "-------------------------------------------------------------\n",
      "\n",
      "Training classification report:\n",
      "              precision    recall  f1-score   support\n",
      "\n",
      "           0       1.00      0.99      0.99      7226\n",
      "           1       0.98      0.99      0.99      2770\n",
      "\n",
      "    accuracy                           0.99      9996\n",
      "   macro avg       0.99      0.99      0.99      9996\n",
      "weighted avg       0.99      0.99      0.99      9996\n",
      "\n",
      "\n",
      "\n",
      "Validation classification report:\n",
      "              precision    recall  f1-score   support\n",
      "\n",
      "           0       0.85      0.85      0.85      1807\n",
      "           1       0.60      0.60      0.60       693\n",
      "\n",
      "    accuracy                           0.78      2500\n",
      "   macro avg       0.72      0.72      0.72      2500\n",
      "weighted avg       0.78      0.78      0.78      2500\n",
      "\n"
     ]
    },
    {
     "data": {
      "text/html": [
       "<div>\n",
       "<style scoped>\n",
       "    .dataframe tbody tr th:only-of-type {\n",
       "        vertical-align: middle;\n",
       "    }\n",
       "\n",
       "    .dataframe tbody tr th {\n",
       "        vertical-align: top;\n",
       "    }\n",
       "\n",
       "    .dataframe thead th {\n",
       "        text-align: right;\n",
       "    }\n",
       "</style>\n",
       "<table border=\"1\" class=\"dataframe\">\n",
       "  <thead>\n",
       "    <tr style=\"text-align: right;\">\n",
       "      <th></th>\n",
       "      <th>train</th>\n",
       "      <th>val</th>\n",
       "    </tr>\n",
       "    <tr>\n",
       "      <th>metric</th>\n",
       "      <th></th>\n",
       "      <th></th>\n",
       "    </tr>\n",
       "  </thead>\n",
       "  <tbody>\n",
       "    <tr>\n",
       "      <th>balanced_accuracy</th>\n",
       "      <td>0.991946</td>\n",
       "      <td>0.723498</td>\n",
       "    </tr>\n",
       "    <tr>\n",
       "      <th>precision</th>\n",
       "      <td>0.978981</td>\n",
       "      <td>0.600289</td>\n",
       "    </tr>\n",
       "    <tr>\n",
       "      <th>recall</th>\n",
       "      <td>0.992058</td>\n",
       "      <td>0.600289</td>\n",
       "    </tr>\n",
       "    <tr>\n",
       "      <th>f1</th>\n",
       "      <td>0.985476</td>\n",
       "      <td>0.600289</td>\n",
       "    </tr>\n",
       "    <tr>\n",
       "      <th>roc_auc</th>\n",
       "      <td>0.991946</td>\n",
       "      <td>0.723498</td>\n",
       "    </tr>\n",
       "  </tbody>\n",
       "</table>\n",
       "</div>"
      ],
      "text/plain": [
       "                      train       val\n",
       "metric                               \n",
       "balanced_accuracy  0.991946  0.723498\n",
       "precision          0.978981  0.600289\n",
       "recall             0.992058  0.600289\n",
       "f1                 0.985476  0.600289\n",
       "roc_auc            0.991946  0.723498"
      ]
     },
     "execution_count": 90,
     "metadata": {},
     "output_type": "execute_result"
    }
   ],
   "source": [
    "tf_idf(mlp_55)"
   ]
  },
  {
   "attachments": {},
   "cell_type": "markdown",
   "metadata": {},
   "source": [
    "### Grid Search"
   ]
  },
  {
   "cell_type": "code",
   "execution_count": 153,
   "metadata": {},
   "outputs": [],
   "source": [
    "mlp = MLPClassifier()"
   ]
  },
  {
   "cell_type": "code",
   "execution_count": 154,
   "metadata": {},
   "outputs": [],
   "source": [
    "parameter_space = {\n",
    "    'hidden_layer_sizes': [(10,10), (5,5,5)],\n",
    "    'activation': ['relu'],\n",
    "    'solver': ['sgd', 'adam'],\n",
    "    'learning_rate_init': [0.001, 0.01]\n",
    "}"
   ]
  },
  {
   "cell_type": "code",
   "execution_count": 155,
   "metadata": {},
   "outputs": [],
   "source": [
    "clf = GridSearchCV(estimator =mlp ,param_grid = parameter_space,verbose=1, scoring='f1',cv=3)"
   ]
  },
  {
   "cell_type": "code",
   "execution_count": 156,
   "metadata": {},
   "outputs": [],
   "source": [
    "transformer = FeatureUnion([\n",
    "                    ('host_about_tfidf', \n",
    "                      Pipeline([('extract_field',\n",
    "                                  FunctionTransformer(lambda x: x['host_about'], \n",
    "                                                      validate=False)),\n",
    "                                ('tfidf', \n",
    "                                  TfidfVectorizer())])),\n",
    "                    ('description_tfidf', \n",
    "                      Pipeline([('extract_field', \n",
    "                                  FunctionTransformer(lambda x: x['description'], \n",
    "                                                      validate=False)),\n",
    "                                ('tfidf', \n",
    "                                  TfidfVectorizer())]))]) \n",
    "tfidf_matrix_train = transformer.fit_transform(X_airbnb_train_clean)"
   ]
  },
  {
   "cell_type": "code",
   "execution_count": 157,
   "metadata": {
    "scrolled": true
   },
   "outputs": [
    {
     "name": "stdout",
     "output_type": "stream",
     "text": [
      "Fitting 3 folds for each of 8 candidates, totalling 24 fits\n"
     ]
    },
    {
     "data": {
      "text/plain": [
       "GridSearchCV(cv=3, estimator=MLPClassifier(),\n",
       "             param_grid={'activation': ['relu'],\n",
       "                         'hidden_layer_sizes': [(10, 10), (5, 5, 5)],\n",
       "                         'learning_rate_init': [0.001, 0.01],\n",
       "                         'solver': ['sgd', 'adam']},\n",
       "             scoring='f1', verbose=1)"
      ]
     },
     "execution_count": 157,
     "metadata": {},
     "output_type": "execute_result"
    }
   ],
   "source": [
    "clf.fit(tfidf_matrix_train, y_airbnb_train)"
   ]
  },
  {
   "cell_type": "code",
   "execution_count": 158,
   "metadata": {},
   "outputs": [
    {
     "data": {
      "text/plain": [
       "{'activation': 'relu',\n",
       " 'hidden_layer_sizes': (10, 10),\n",
       " 'learning_rate_init': 0.001,\n",
       " 'solver': 'adam'}"
      ]
     },
     "execution_count": 158,
     "metadata": {},
     "output_type": "execute_result"
    }
   ],
   "source": [
    "clf.best_params_"
   ]
  },
  {
   "cell_type": "code",
   "execution_count": 159,
   "metadata": {},
   "outputs": [
    {
     "data": {
      "text/plain": [
       "0.5660856570026299"
      ]
     },
     "execution_count": 159,
     "metadata": {},
     "output_type": "execute_result"
    }
   ],
   "source": [
    "clf.best_score_"
   ]
  },
  {
   "attachments": {},
   "cell_type": "markdown",
   "metadata": {},
   "source": [
    "### Logistic Regression"
   ]
  },
  {
   "cell_type": "code",
   "execution_count": 91,
   "metadata": {},
   "outputs": [],
   "source": [
    "lr = LogisticRegression()"
   ]
  },
  {
   "cell_type": "code",
   "execution_count": 92,
   "metadata": {},
   "outputs": [
    {
     "name": "stdout",
     "output_type": "stream",
     "text": [
      "Training confusion matrix:\n"
     ]
    },
    {
     "data": {
      "image/png": "[encoded data removed]",
      "text/plain": [
       "<Figure size 432x288 with 2 Axes>"
      ]
     },
     "metadata": {
      "needs_background": "light"
     },
     "output_type": "display_data"
    },
    {
     "name": "stdout",
     "output_type": "stream",
     "text": [
      "\n",
      "\n",
      " Validation confusion matrix:\n"
     ]
    },
    {
     "data": {
      "image/png": "[encoded data removed]",
      "text/plain": [
       "<Figure size 432x288 with 2 Axes>"
      ]
     },
     "metadata": {
      "needs_background": "light"
     },
     "output_type": "display_data"
    },
    {
     "name": "stdout",
     "output_type": "stream",
     "text": [
      "\n",
      "-------------------------------------------------------------\n",
      "\n",
      "Training classification report:\n",
      "              precision    recall  f1-score   support\n",
      "\n",
      "           0       0.85      0.98      0.91      7226\n",
      "           1       0.93      0.54      0.68      2770\n",
      "\n",
      "    accuracy                           0.86      9996\n",
      "   macro avg       0.89      0.76      0.80      9996\n",
      "weighted avg       0.87      0.86      0.85      9996\n",
      "\n",
      "\n",
      "\n",
      "Validation classification report:\n",
      "              precision    recall  f1-score   support\n",
      "\n",
      "           0       0.80      0.95      0.87      1807\n",
      "           1       0.74      0.36      0.49       693\n",
      "\n",
      "    accuracy                           0.79      2500\n",
      "   macro avg       0.77      0.66      0.68      2500\n",
      "weighted avg       0.78      0.79      0.76      2500\n",
      "\n"
     ]
    },
    {
     "data": {
      "text/html": [
       "<div>\n",
       "<style scoped>\n",
       "    .dataframe tbody tr th:only-of-type {\n",
       "        vertical-align: middle;\n",
       "    }\n",
       "\n",
       "    .dataframe tbody tr th {\n",
       "        vertical-align: top;\n",
       "    }\n",
       "\n",
       "    .dataframe thead th {\n",
       "        text-align: right;\n",
       "    }\n",
       "</style>\n",
       "<table border=\"1\" class=\"dataframe\">\n",
       "  <thead>\n",
       "    <tr style=\"text-align: right;\">\n",
       "      <th></th>\n",
       "      <th>train</th>\n",
       "      <th>val</th>\n",
       "    </tr>\n",
       "    <tr>\n",
       "      <th>metric</th>\n",
       "      <th></th>\n",
       "      <th></th>\n",
       "    </tr>\n",
       "  </thead>\n",
       "  <tbody>\n",
       "    <tr>\n",
       "      <th>balanced_accuracy</th>\n",
       "      <td>0.763204</td>\n",
       "      <td>0.656915</td>\n",
       "    </tr>\n",
       "    <tr>\n",
       "      <th>precision</th>\n",
       "      <td>0.927778</td>\n",
       "      <td>0.736842</td>\n",
       "    </tr>\n",
       "    <tr>\n",
       "      <th>recall</th>\n",
       "      <td>0.542599</td>\n",
       "      <td>0.363636</td>\n",
       "    </tr>\n",
       "    <tr>\n",
       "      <th>f1</th>\n",
       "      <td>0.684738</td>\n",
       "      <td>0.486957</td>\n",
       "    </tr>\n",
       "    <tr>\n",
       "      <th>roc_auc</th>\n",
       "      <td>0.763204</td>\n",
       "      <td>0.656915</td>\n",
       "    </tr>\n",
       "  </tbody>\n",
       "</table>\n",
       "</div>"
      ],
      "text/plain": [
       "                      train       val\n",
       "metric                               \n",
       "balanced_accuracy  0.763204  0.656915\n",
       "precision          0.927778  0.736842\n",
       "recall             0.542599  0.363636\n",
       "f1                 0.684738  0.486957\n",
       "roc_auc            0.763204  0.656915"
      ]
     },
     "execution_count": 92,
     "metadata": {},
     "output_type": "execute_result"
    }
   ],
   "source": [
    "tf_idf(lr)"
   ]
  },
  {
   "attachments": {},
   "cell_type": "markdown",
   "metadata": {},
   "source": [
    "### Gaussian Naive Bayes"
   ]
  },
  {
   "cell_type": "code",
   "execution_count": 93,
   "metadata": {},
   "outputs": [],
   "source": [
    "gnb = GaussianNB()"
   ]
  },
  {
   "cell_type": "code",
   "execution_count": 94,
   "metadata": {},
   "outputs": [
    {
     "name": "stdout",
     "output_type": "stream",
     "text": [
      "Training confusion matrix:\n"
     ]
    },
    {
     "data": {
      "image/png": "[encoded data removed]",
      "text/plain": [
       "<Figure size 432x288 with 2 Axes>"
      ]
     },
     "metadata": {
      "needs_background": "light"
     },
     "output_type": "display_data"
    },
    {
     "name": "stdout",
     "output_type": "stream",
     "text": [
      "\n",
      "\n",
      " Validation confusion matrix:\n"
     ]
    },
    {
     "data": {
      "image/png": "[encoded data removed]",
      "text/plain": [
       "<Figure size 432x288 with 2 Axes>"
      ]
     },
     "metadata": {
      "needs_background": "light"
     },
     "output_type": "display_data"
    },
    {
     "name": "stdout",
     "output_type": "stream",
     "text": [
      "\n",
      "-------------------------------------------------------------\n",
      "\n",
      "Training classification report:\n",
      "              precision    recall  f1-score   support\n",
      "\n",
      "           0       1.00      0.81      0.90      7226\n",
      "           1       0.67      1.00      0.80      2770\n",
      "\n",
      "    accuracy                           0.86      9996\n",
      "   macro avg       0.83      0.91      0.85      9996\n",
      "weighted avg       0.91      0.86      0.87      9996\n",
      "\n",
      "\n",
      "\n",
      "Validation classification report:\n",
      "              precision    recall  f1-score   support\n",
      "\n",
      "           0       0.83      0.73      0.78      1807\n",
      "           1       0.47      0.61      0.53       693\n",
      "\n",
      "    accuracy                           0.70      2500\n",
      "   macro avg       0.65      0.67      0.65      2500\n",
      "weighted avg       0.73      0.70      0.71      2500\n",
      "\n"
     ]
    },
    {
     "data": {
      "text/html": [
       "<div>\n",
       "<style scoped>\n",
       "    .dataframe tbody tr th:only-of-type {\n",
       "        vertical-align: middle;\n",
       "    }\n",
       "\n",
       "    .dataframe tbody tr th {\n",
       "        vertical-align: top;\n",
       "    }\n",
       "\n",
       "    .dataframe thead th {\n",
       "        text-align: right;\n",
       "    }\n",
       "</style>\n",
       "<table border=\"1\" class=\"dataframe\">\n",
       "  <thead>\n",
       "    <tr style=\"text-align: right;\">\n",
       "      <th></th>\n",
       "      <th>train</th>\n",
       "      <th>val</th>\n",
       "    </tr>\n",
       "    <tr>\n",
       "      <th>metric</th>\n",
       "      <th></th>\n",
       "      <th></th>\n",
       "    </tr>\n",
       "  </thead>\n",
       "  <tbody>\n",
       "    <tr>\n",
       "      <th>balanced_accuracy</th>\n",
       "      <td>0.905134</td>\n",
       "      <td>0.671775</td>\n",
       "    </tr>\n",
       "    <tr>\n",
       "      <th>precision</th>\n",
       "      <td>0.668921</td>\n",
       "      <td>0.465066</td>\n",
       "    </tr>\n",
       "    <tr>\n",
       "      <th>recall</th>\n",
       "      <td>1.000000</td>\n",
       "      <td>0.614719</td>\n",
       "    </tr>\n",
       "    <tr>\n",
       "      <th>f1</th>\n",
       "      <td>0.801621</td>\n",
       "      <td>0.529521</td>\n",
       "    </tr>\n",
       "    <tr>\n",
       "      <th>roc_auc</th>\n",
       "      <td>0.905134</td>\n",
       "      <td>0.671775</td>\n",
       "    </tr>\n",
       "  </tbody>\n",
       "</table>\n",
       "</div>"
      ],
      "text/plain": [
       "                      train       val\n",
       "metric                               \n",
       "balanced_accuracy  0.905134  0.671775\n",
       "precision          0.668921  0.465066\n",
       "recall             1.000000  0.614719\n",
       "f1                 0.801621  0.529521\n",
       "roc_auc            0.905134  0.671775"
      ]
     },
     "execution_count": 94,
     "metadata": {},
     "output_type": "execute_result"
    }
   ],
   "source": [
    "tf_idf(gnb)"
   ]
  },
  {
   "attachments": {},
   "cell_type": "markdown",
   "metadata": {},
   "source": [
    "### Balanced Random Forest"
   ]
  },
  {
   "cell_type": "code",
   "execution_count": 96,
   "metadata": {},
   "outputs": [],
   "source": [
    "brf = BalancedRandomForestClassifier(random_state=42, n_jobs=2)"
   ]
  },
  {
   "cell_type": "code",
   "execution_count": 97,
   "metadata": {},
   "outputs": [
    {
     "name": "stdout",
     "output_type": "stream",
     "text": [
      "Training confusion matrix:\n"
     ]
    },
    {
     "data": {
      "image/png": "[encoded data removed]",
      "text/plain": [
       "<Figure size 432x288 with 2 Axes>"
      ]
     },
     "metadata": {
      "needs_background": "light"
     },
     "output_type": "display_data"
    },
    {
     "name": "stdout",
     "output_type": "stream",
     "text": [
      "\n",
      "\n",
      " Validation confusion matrix:\n"
     ]
    },
    {
     "data": {
      "image/png": "[encoded data removed]",
      "text/plain": [
       "<Figure size 432x288 with 2 Axes>"
      ]
     },
     "metadata": {
      "needs_background": "light"
     },
     "output_type": "display_data"
    },
    {
     "name": "stdout",
     "output_type": "stream",
     "text": [
      "\n",
      "-------------------------------------------------------------\n",
      "\n",
      "Training classification report:\n",
      "              precision    recall  f1-score   support\n",
      "\n",
      "           0       1.00      0.95      0.97      7226\n",
      "           1       0.88      1.00      0.94      2770\n",
      "\n",
      "    accuracy                           0.96      9996\n",
      "   macro avg       0.94      0.97      0.95      9996\n",
      "weighted avg       0.97      0.96      0.96      9996\n",
      "\n",
      "\n",
      "\n",
      "Validation classification report:\n",
      "              precision    recall  f1-score   support\n",
      "\n",
      "           0       0.86      0.79      0.82      1807\n",
      "           1       0.55      0.66      0.60       693\n",
      "\n",
      "    accuracy                           0.76      2500\n",
      "   macro avg       0.70      0.73      0.71      2500\n",
      "weighted avg       0.77      0.76      0.76      2500\n",
      "\n"
     ]
    },
    {
     "data": {
      "text/html": [
       "<div>\n",
       "<style scoped>\n",
       "    .dataframe tbody tr th:only-of-type {\n",
       "        vertical-align: middle;\n",
       "    }\n",
       "\n",
       "    .dataframe tbody tr th {\n",
       "        vertical-align: top;\n",
       "    }\n",
       "\n",
       "    .dataframe thead th {\n",
       "        text-align: right;\n",
       "    }\n",
       "</style>\n",
       "<table border=\"1\" class=\"dataframe\">\n",
       "  <thead>\n",
       "    <tr style=\"text-align: right;\">\n",
       "      <th></th>\n",
       "      <th>train</th>\n",
       "      <th>val</th>\n",
       "    </tr>\n",
       "    <tr>\n",
       "      <th>metric</th>\n",
       "      <th></th>\n",
       "      <th></th>\n",
       "    </tr>\n",
       "  </thead>\n",
       "  <tbody>\n",
       "    <tr>\n",
       "      <th>balanced_accuracy</th>\n",
       "      <td>0.973495</td>\n",
       "      <td>0.726071</td>\n",
       "    </tr>\n",
       "    <tr>\n",
       "      <th>precision</th>\n",
       "      <td>0.881978</td>\n",
       "      <td>0.550725</td>\n",
       "    </tr>\n",
       "    <tr>\n",
       "      <th>recall</th>\n",
       "      <td>0.998195</td>\n",
       "      <td>0.658009</td>\n",
       "    </tr>\n",
       "    <tr>\n",
       "      <th>f1</th>\n",
       "      <td>0.936494</td>\n",
       "      <td>0.599606</td>\n",
       "    </tr>\n",
       "    <tr>\n",
       "      <th>roc_auc</th>\n",
       "      <td>0.973495</td>\n",
       "      <td>0.726071</td>\n",
       "    </tr>\n",
       "  </tbody>\n",
       "</table>\n",
       "</div>"
      ],
      "text/plain": [
       "                      train       val\n",
       "metric                               \n",
       "balanced_accuracy  0.973495  0.726071\n",
       "precision          0.881978  0.550725\n",
       "recall             0.998195  0.658009\n",
       "f1                 0.936494  0.599606\n",
       "roc_auc            0.973495  0.726071"
      ]
     },
     "execution_count": 97,
     "metadata": {},
     "output_type": "execute_result"
    }
   ],
   "source": [
    "tf_idf(brf)"
   ]
  },
  {
   "attachments": {},
   "cell_type": "markdown",
   "metadata": {},
   "source": [
    "## TF-IDF with different ngrams"
   ]
  },
  {
   "cell_type": "code",
   "execution_count": 98,
   "metadata": {},
   "outputs": [],
   "source": [
    "def tf_idf_difngram(model,class_report=True, plot_confusion_matrix=True):\n",
    "    tfidf_f1score_df = pd.DataFrame()\n",
    "    max_range_list = [1,2,3,4,5,6]\n",
    "\n",
    "    for max_range in max_range_list:\n",
    "        transformer = FeatureUnion([\n",
    "                        ('host_about_tfidf', \n",
    "                          Pipeline([('extract_field',\n",
    "                                      FunctionTransformer(lambda x: x['host_about'], \n",
    "                                                          validate=False)),\n",
    "                                    ('tfidf', \n",
    "                                      TfidfVectorizer(ngram_range=(1,max_range)))])),\n",
    "                        ('description_tfidf', \n",
    "                          Pipeline([('extract_field', \n",
    "                                      FunctionTransformer(lambda x: x['description'], \n",
    "                                                          validate=False)),\n",
    "                                    ('tfidf', \n",
    "                                      TfidfVectorizer(ngram_range=(1,max_range)))]))]) \n",
    "\n",
    "        tfidf_airbnb_train = transformer.fit_transform(X_airbnb_train_clean)\n",
    "        tfidf_airbnb_val = transformer.transform(X_airbnb_val_clean)\n",
    "        df = apply_model(tfidf_airbnb_train, y_airbnb_train, tfidf_airbnb_val, y_airbnb_val, metrics=['f1'], model = model, class_report=class_report, plot_confusion_matrix=plot_confusion_matrix)\n",
    "        tfidf_f1score_df = pd.concat([tfidf_f1score_df, df])\n",
    "    tfidf_f1score_df['range'] = max_range_list\n",
    "    return tfidf_f1score_df"
   ]
  },
  {
   "cell_type": "code",
   "execution_count": 99,
   "metadata": {},
   "outputs": [
    {
     "data": {
      "text/html": [
       "<div>\n",
       "<style scoped>\n",
       "    .dataframe tbody tr th:only-of-type {\n",
       "        vertical-align: middle;\n",
       "    }\n",
       "\n",
       "    .dataframe tbody tr th {\n",
       "        vertical-align: top;\n",
       "    }\n",
       "\n",
       "    .dataframe thead th {\n",
       "        text-align: right;\n",
       "    }\n",
       "</style>\n",
       "<table border=\"1\" class=\"dataframe\">\n",
       "  <thead>\n",
       "    <tr style=\"text-align: right;\">\n",
       "      <th></th>\n",
       "      <th>train</th>\n",
       "      <th>val</th>\n",
       "      <th>range</th>\n",
       "    </tr>\n",
       "    <tr>\n",
       "      <th>metric</th>\n",
       "      <th></th>\n",
       "      <th></th>\n",
       "      <th></th>\n",
       "    </tr>\n",
       "  </thead>\n",
       "  <tbody>\n",
       "    <tr>\n",
       "      <th>f1</th>\n",
       "      <td>0.991676</td>\n",
       "      <td>0.591736</td>\n",
       "      <td>1</td>\n",
       "    </tr>\n",
       "    <tr>\n",
       "      <th>f1</th>\n",
       "      <td>0.991682</td>\n",
       "      <td>0.595258</td>\n",
       "      <td>2</td>\n",
       "    </tr>\n",
       "    <tr>\n",
       "      <th>f1</th>\n",
       "      <td>0.991688</td>\n",
       "      <td>0.584565</td>\n",
       "      <td>3</td>\n",
       "    </tr>\n",
       "    <tr>\n",
       "      <th>f1</th>\n",
       "      <td>0.991691</td>\n",
       "      <td>0.581967</td>\n",
       "      <td>4</td>\n",
       "    </tr>\n",
       "    <tr>\n",
       "      <th>f1</th>\n",
       "      <td>0.991676</td>\n",
       "      <td>0.587171</td>\n",
       "      <td>5</td>\n",
       "    </tr>\n",
       "    <tr>\n",
       "      <th>f1</th>\n",
       "      <td>0.991673</td>\n",
       "      <td>0.581549</td>\n",
       "      <td>6</td>\n",
       "    </tr>\n",
       "  </tbody>\n",
       "</table>\n",
       "</div>"
      ],
      "text/plain": [
       "           train       val  range\n",
       "metric                           \n",
       "f1      0.991676  0.591736      1\n",
       "f1      0.991682  0.595258      2\n",
       "f1      0.991688  0.584565      3\n",
       "f1      0.991691  0.581967      4\n",
       "f1      0.991676  0.587171      5\n",
       "f1      0.991673  0.581549      6"
      ]
     },
     "execution_count": 99,
     "metadata": {},
     "output_type": "execute_result"
    }
   ],
   "source": [
    "tf_idf_difngram(modelknn, class_report=False, plot_confusion_matrix=False)"
   ]
  },
  {
   "cell_type": "code",
   "execution_count": 160,
   "metadata": {},
   "outputs": [
    {
     "data": {
      "text/html": [
       "<div>\n",
       "<style scoped>\n",
       "    .dataframe tbody tr th:only-of-type {\n",
       "        vertical-align: middle;\n",
       "    }\n",
       "\n",
       "    .dataframe tbody tr th {\n",
       "        vertical-align: top;\n",
       "    }\n",
       "\n",
       "    .dataframe thead th {\n",
       "        text-align: right;\n",
       "    }\n",
       "</style>\n",
       "<table border=\"1\" class=\"dataframe\">\n",
       "  <thead>\n",
       "    <tr style=\"text-align: right;\">\n",
       "      <th></th>\n",
       "      <th>train</th>\n",
       "      <th>val</th>\n",
       "      <th>range</th>\n",
       "    </tr>\n",
       "    <tr>\n",
       "      <th>metric</th>\n",
       "      <th></th>\n",
       "      <th></th>\n",
       "      <th></th>\n",
       "    </tr>\n",
       "  </thead>\n",
       "  <tbody>\n",
       "    <tr>\n",
       "      <th>f1</th>\n",
       "      <td>0.980111</td>\n",
       "      <td>0.593272</td>\n",
       "      <td>1</td>\n",
       "    </tr>\n",
       "    <tr>\n",
       "      <th>f1</th>\n",
       "      <td>0.989892</td>\n",
       "      <td>0.615516</td>\n",
       "      <td>2</td>\n",
       "    </tr>\n",
       "    <tr>\n",
       "      <th>f1</th>\n",
       "      <td>0.991351</td>\n",
       "      <td>0.634271</td>\n",
       "      <td>3</td>\n",
       "    </tr>\n",
       "    <tr>\n",
       "      <th>f1</th>\n",
       "      <td>0.990404</td>\n",
       "      <td>0.618794</td>\n",
       "      <td>4</td>\n",
       "    </tr>\n",
       "    <tr>\n",
       "      <th>f1</th>\n",
       "      <td>0.985865</td>\n",
       "      <td>0.619792</td>\n",
       "      <td>5</td>\n",
       "    </tr>\n",
       "    <tr>\n",
       "      <th>f1</th>\n",
       "      <td>0.000000</td>\n",
       "      <td>0.000000</td>\n",
       "      <td>6</td>\n",
       "    </tr>\n",
       "  </tbody>\n",
       "</table>\n",
       "</div>"
      ],
      "text/plain": [
       "           train       val  range\n",
       "metric                           \n",
       "f1      0.980111  0.593272      1\n",
       "f1      0.989892  0.615516      2\n",
       "f1      0.991351  0.634271      3\n",
       "f1      0.990404  0.618794      4\n",
       "f1      0.985865  0.619792      5\n",
       "f1      0.000000  0.000000      6"
      ]
     },
     "execution_count": 160,
     "metadata": {},
     "output_type": "execute_result"
    }
   ],
   "source": [
    "tf_idf_difngram(mlp_55, class_report=False, plot_confusion_matrix=False)"
   ]
  },
  {
   "cell_type": "code",
   "execution_count": 161,
   "metadata": {},
   "outputs": [
    {
     "data": {
      "text/html": [
       "<div>\n",
       "<style scoped>\n",
       "    .dataframe tbody tr th:only-of-type {\n",
       "        vertical-align: middle;\n",
       "    }\n",
       "\n",
       "    .dataframe tbody tr th {\n",
       "        vertical-align: top;\n",
       "    }\n",
       "\n",
       "    .dataframe thead th {\n",
       "        text-align: right;\n",
       "    }\n",
       "</style>\n",
       "<table border=\"1\" class=\"dataframe\">\n",
       "  <thead>\n",
       "    <tr style=\"text-align: right;\">\n",
       "      <th></th>\n",
       "      <th>train</th>\n",
       "      <th>val</th>\n",
       "      <th>range</th>\n",
       "    </tr>\n",
       "    <tr>\n",
       "      <th>metric</th>\n",
       "      <th></th>\n",
       "      <th></th>\n",
       "      <th></th>\n",
       "    </tr>\n",
       "  </thead>\n",
       "  <tbody>\n",
       "    <tr>\n",
       "      <th>f1</th>\n",
       "      <td>0.936494</td>\n",
       "      <td>0.599606</td>\n",
       "      <td>1</td>\n",
       "    </tr>\n",
       "    <tr>\n",
       "      <th>f1</th>\n",
       "      <td>0.933558</td>\n",
       "      <td>0.600000</td>\n",
       "      <td>2</td>\n",
       "    </tr>\n",
       "    <tr>\n",
       "      <th>f1</th>\n",
       "      <td>0.937924</td>\n",
       "      <td>0.596606</td>\n",
       "      <td>3</td>\n",
       "    </tr>\n",
       "    <tr>\n",
       "      <th>f1</th>\n",
       "      <td>0.933716</td>\n",
       "      <td>0.591678</td>\n",
       "      <td>4</td>\n",
       "    </tr>\n",
       "    <tr>\n",
       "      <th>f1</th>\n",
       "      <td>0.933333</td>\n",
       "      <td>0.593548</td>\n",
       "      <td>5</td>\n",
       "    </tr>\n",
       "    <tr>\n",
       "      <th>f1</th>\n",
       "      <td>0.934684</td>\n",
       "      <td>0.588552</td>\n",
       "      <td>6</td>\n",
       "    </tr>\n",
       "  </tbody>\n",
       "</table>\n",
       "</div>"
      ],
      "text/plain": [
       "           train       val  range\n",
       "metric                           \n",
       "f1      0.936494  0.599606      1\n",
       "f1      0.933558  0.600000      2\n",
       "f1      0.937924  0.596606      3\n",
       "f1      0.933716  0.591678      4\n",
       "f1      0.933333  0.593548      5\n",
       "f1      0.934684  0.588552      6"
      ]
     },
     "execution_count": 161,
     "metadata": {},
     "output_type": "execute_result"
    }
   ],
   "source": [
    "tf_idf_difngram(brf, class_report=False, plot_confusion_matrix=False)"
   ]
  },
  {
   "attachments": {},
   "cell_type": "markdown",
   "metadata": {},
   "source": [
    "<a class=\"anchor\" id=\"topic04.02\" /><br>\n",
    "## 4.2 TF-IDF with reviews"
   ]
  },
  {
   "attachments": {},
   "cell_type": "markdown",
   "metadata": {},
   "source": [
    "### Reviews as sentiment analysis"
   ]
  },
  {
   "cell_type": "code",
   "execution_count": 164,
   "metadata": {},
   "outputs": [],
   "source": [
    "def tf_idf_sentiment(model, class_report=True, plot_confusion_matrix=True):\n",
    "    transformer = FeatureUnion([\n",
    "                    ('host_about_tfidf', \n",
    "                      Pipeline([('extract_field',\n",
    "                                  FunctionTransformer(lambda x: x['host_about'], \n",
    "                                                      validate=False)),\n",
    "                                ('tfidf', \n",
    "                                  TfidfVectorizer())])),\n",
    "                    ('description_tfidf', \n",
    "                      Pipeline([('extract_field', \n",
    "                                  FunctionTransformer(lambda x: x['description'], \n",
    "                                                      validate=False)),\n",
    "                                ('tfidf', \n",
    "                                  TfidfVectorizer())]))]) \n",
    "\n",
    "    tfidf_airbnb_train = transformer.fit_transform(X_airbnb_train_clean)\n",
    "    tfidf_array_train = tfidf_airbnb_train.toarray()\n",
    "    tfidf_df_train = pd.DataFrame(tfidf_array_train, index=X_airbnb_train_clean.index)\n",
    "    tfidf_df_train['sentiment'] = X_airbnb_train_clean_sent['sentiment']\n",
    "    tfidf_with_sentiment_train = sparse.csr_matrix(tfidf_df_train.values)\n",
    "    \n",
    "    tfidf_airbnb_val = transformer.transform(X_airbnb_val_clean)\n",
    "    tfidf_array_val = tfidf_airbnb_val.toarray()\n",
    "    tfidf_df_val = pd.DataFrame(tfidf_array_val, index=X_airbnb_val_clean.index)\n",
    "    tfidf_df_val['sentiment'] = X_airbnb_val_clean_sent['sentiment']\n",
    "    tfidf_with_sentiment_val = sparse.csr_matrix(tfidf_df_val.values)\n",
    "    \n",
    "\n",
    "    if isinstance(model, GaussianNB):\n",
    "        df = apply_model(X_train=tfidf_airbnb_train.toarray(),y_train=y_airbnb_train, X_val=tfidf_airbnb_val.toarray(), y_val=y_airbnb_val, metrics=['balanced_accuracy','precision','recall', 'f1','roc_auc' ],model = model, class_report=class_report, plot_confusion_matrix=plot_confusion_matrix)\n",
    "    else:\n",
    "        df = apply_model(X_train=tfidf_with_sentiment_train,y_train=y_airbnb_train, X_val=tfidf_with_sentiment_val, y_val=y_airbnb_val, metrics=['balanced_accuracy','precision','recall', 'f1','roc_auc' ],model = model, class_report=class_report, plot_confusion_matrix=plot_confusion_matrix)\n",
    "    return df"
   ]
  },
  {
   "cell_type": "code",
   "execution_count": 169,
   "metadata": {
    "scrolled": true
   },
   "outputs": [
    {
     "name": "stdout",
     "output_type": "stream",
     "text": [
      "Training confusion matrix:\n"
     ]
    },
    {
     "data": {
      "image/png": "[encoded data removed]",
      "text/plain": [
       "<Figure size 432x288 with 2 Axes>"
      ]
     },
     "metadata": {
      "needs_background": "light"
     },
     "output_type": "display_data"
    },
    {
     "name": "stdout",
     "output_type": "stream",
     "text": [
      "\n",
      "\n",
      " Validation confusion matrix:\n"
     ]
    },
    {
     "data": {
      "image/png": "[encoded data removed]",
      "text/plain": [
       "<Figure size 432x288 with 2 Axes>"
      ]
     },
     "metadata": {
      "needs_background": "light"
     },
     "output_type": "display_data"
    },
    {
     "name": "stdout",
     "output_type": "stream",
     "text": [
      "\n",
      "-------------------------------------------------------------\n",
      "\n",
      "Training classification report:\n",
      "              precision    recall  f1-score   support\n",
      "\n",
      "           0       1.00      1.00      1.00      7226\n",
      "           1       1.00      1.00      1.00      2770\n",
      "\n",
      "    accuracy                           1.00      9996\n",
      "   macro avg       1.00      1.00      1.00      9996\n",
      "weighted avg       1.00      1.00      1.00      9996\n",
      "\n",
      "\n",
      "\n",
      "Validation classification report:\n",
      "              precision    recall  f1-score   support\n",
      "\n",
      "           0       0.85      0.84      0.85      1807\n",
      "           1       0.60      0.61      0.60       693\n",
      "\n",
      "    accuracy                           0.78      2500\n",
      "   macro avg       0.72      0.73      0.72      2500\n",
      "weighted avg       0.78      0.78      0.78      2500\n",
      "\n"
     ]
    },
    {
     "data": {
      "text/html": [
       "<div>\n",
       "<style scoped>\n",
       "    .dataframe tbody tr th:only-of-type {\n",
       "        vertical-align: middle;\n",
       "    }\n",
       "\n",
       "    .dataframe tbody tr th {\n",
       "        vertical-align: top;\n",
       "    }\n",
       "\n",
       "    .dataframe thead th {\n",
       "        text-align: right;\n",
       "    }\n",
       "</style>\n",
       "<table border=\"1\" class=\"dataframe\">\n",
       "  <thead>\n",
       "    <tr style=\"text-align: right;\">\n",
       "      <th></th>\n",
       "      <th>train</th>\n",
       "      <th>val</th>\n",
       "    </tr>\n",
       "    <tr>\n",
       "      <th>metric</th>\n",
       "      <th></th>\n",
       "      <th></th>\n",
       "    </tr>\n",
       "  </thead>\n",
       "  <tbody>\n",
       "    <tr>\n",
       "      <th>balanced_accuracy</th>\n",
       "      <td>0.997238</td>\n",
       "      <td>0.726948</td>\n",
       "    </tr>\n",
       "    <tr>\n",
       "      <th>precision</th>\n",
       "      <td>0.997828</td>\n",
       "      <td>0.596073</td>\n",
       "    </tr>\n",
       "    <tr>\n",
       "      <th>recall</th>\n",
       "      <td>0.995307</td>\n",
       "      <td>0.613276</td>\n",
       "    </tr>\n",
       "    <tr>\n",
       "      <th>f1</th>\n",
       "      <td>0.996566</td>\n",
       "      <td>0.604552</td>\n",
       "    </tr>\n",
       "    <tr>\n",
       "      <th>roc_auc</th>\n",
       "      <td>0.997238</td>\n",
       "      <td>0.726948</td>\n",
       "    </tr>\n",
       "  </tbody>\n",
       "</table>\n",
       "</div>"
      ],
      "text/plain": [
       "                      train       val\n",
       "metric                               \n",
       "balanced_accuracy  0.997238  0.726948\n",
       "precision          0.997828  0.596073\n",
       "recall             0.995307  0.613276\n",
       "f1                 0.996566  0.604552\n",
       "roc_auc            0.997238  0.726948"
      ]
     },
     "execution_count": 169,
     "metadata": {},
     "output_type": "execute_result"
    }
   ],
   "source": [
    "tf_idf_sentiment(modelknn,class_report=True, plot_confusion_matrix=True)"
   ]
  },
  {
   "cell_type": "code",
   "execution_count": 168,
   "metadata": {},
   "outputs": [
    {
     "data": {
      "text/html": [
       "<div>\n",
       "<style scoped>\n",
       "    .dataframe tbody tr th:only-of-type {\n",
       "        vertical-align: middle;\n",
       "    }\n",
       "\n",
       "    .dataframe tbody tr th {\n",
       "        vertical-align: top;\n",
       "    }\n",
       "\n",
       "    .dataframe thead th {\n",
       "        text-align: right;\n",
       "    }\n",
       "</style>\n",
       "<table border=\"1\" class=\"dataframe\">\n",
       "  <thead>\n",
       "    <tr style=\"text-align: right;\">\n",
       "      <th></th>\n",
       "      <th>train</th>\n",
       "      <th>val</th>\n",
       "    </tr>\n",
       "    <tr>\n",
       "      <th>metric</th>\n",
       "      <th></th>\n",
       "      <th></th>\n",
       "    </tr>\n",
       "  </thead>\n",
       "  <tbody>\n",
       "    <tr>\n",
       "      <th>balanced_accuracy</th>\n",
       "      <td>0.980307</td>\n",
       "      <td>0.729408</td>\n",
       "    </tr>\n",
       "    <tr>\n",
       "      <th>precision</th>\n",
       "      <td>0.907571</td>\n",
       "      <td>0.499035</td>\n",
       "    </tr>\n",
       "    <tr>\n",
       "      <th>recall</th>\n",
       "      <td>0.999639</td>\n",
       "      <td>0.746032</td>\n",
       "    </tr>\n",
       "    <tr>\n",
       "      <th>f1</th>\n",
       "      <td>0.951383</td>\n",
       "      <td>0.598034</td>\n",
       "    </tr>\n",
       "    <tr>\n",
       "      <th>roc_auc</th>\n",
       "      <td>0.980307</td>\n",
       "      <td>0.729408</td>\n",
       "    </tr>\n",
       "  </tbody>\n",
       "</table>\n",
       "</div>"
      ],
      "text/plain": [
       "                      train       val\n",
       "metric                               \n",
       "balanced_accuracy  0.980307  0.729408\n",
       "precision          0.907571  0.499035\n",
       "recall             0.999639  0.746032\n",
       "f1                 0.951383  0.598034\n",
       "roc_auc            0.980307  0.729408"
      ]
     },
     "execution_count": 168,
     "metadata": {},
     "output_type": "execute_result"
    }
   ],
   "source": [
    "tf_idf_sentiment(brf,class_report=False, plot_confusion_matrix=False)"
   ]
  },
  {
   "attachments": {},
   "cell_type": "markdown",
   "metadata": {},
   "source": [
    "### Reviews as embeddings"
   ]
  },
  {
   "cell_type": "code",
   "execution_count": 104,
   "metadata": {},
   "outputs": [],
   "source": [
    "reviews_train_sent = X_reviews_train_clean.groupby(['index'])['comments'].apply(' '.join)\n",
    "reviews_val_sent = X_reviews_val_clean.groupby(['index'])['comments'].apply(' '.join)"
   ]
  },
  {
   "cell_type": "code",
   "execution_count": 105,
   "metadata": {},
   "outputs": [],
   "source": [
    "X_concat_train = X_airbnb_train_clean.join(reviews_train_sent)\n",
    "X_concat_val =  X_airbnb_val_clean.join(reviews_val_sent)\n",
    "\n",
    "X_concat_train['comments'] = X_concat_train['comments'].fillna('')\n",
    "X_concat_val['comments'] = X_concat_val['comments'].fillna('')"
   ]
  },
  {
   "cell_type": "code",
   "execution_count": 106,
   "metadata": {},
   "outputs": [],
   "source": [
    "def tf_idf_all(model, class_report=True, plot_confusion_matrix=True):\n",
    "    transformer = FeatureUnion([\n",
    "                    ('host_about_tfidf', \n",
    "                      Pipeline([('extract_field',\n",
    "                                  FunctionTransformer(lambda x: x['host_about'], \n",
    "                                                      validate=False)),\n",
    "                                ('tfidf', \n",
    "                                  TfidfVectorizer())])),\n",
    "                    ('description_tfidf', \n",
    "                      Pipeline([('extract_field', \n",
    "                                  FunctionTransformer(lambda x: x['description'], \n",
    "                                                      validate=False)),\n",
    "                                ('tfidf', \n",
    "                                  TfidfVectorizer())])),\n",
    "        \n",
    "                    ('comments_tfidf', \n",
    "                      Pipeline([('extract_field', \n",
    "                                  FunctionTransformer(lambda x: x['comments'], \n",
    "                                                      validate=False)),\n",
    "                                ('tfidf', \n",
    "                                  TfidfVectorizer())])),\n",
    "    ]) \n",
    "\n",
    "    tfidf_X_concat_train = transformer.fit_transform(X_concat_train)\n",
    "    tfidf_X_concat_val = transformer.transform(X_concat_val)\n",
    "    if isinstance(model, GaussianNB):\n",
    "        df = apply_model(X_train=tfidf_X_concat_train.toarray(),y_train=y_airbnb_train, X_val=tfidf_X_concat_val.toarray(), y_val=y_airbnb_val, metrics=['balanced_accuracy','precision','recall', 'f1','roc_auc' ],model = model, class_report=class_report, plot_confusion_matrix=plot_confusion_matrix)\n",
    "    else:\n",
    "        df = apply_model(X_train=tfidf_X_concat_train,y_train=y_airbnb_train, X_val=tfidf_X_concat_val, y_val=y_airbnb_val, metrics=['balanced_accuracy','precision','recall', 'f1','roc_auc' ],model = model, class_report=class_report, plot_confusion_matrix=plot_confusion_matrix)\n",
    "    return df"
   ]
  },
  {
   "cell_type": "code",
   "execution_count": 107,
   "metadata": {},
   "outputs": [
    {
     "name": "stdout",
     "output_type": "stream",
     "text": [
      "Training confusion matrix:\n"
     ]
    },
    {
     "data": {
      "image/png": "[encoded data removed]",
      "text/plain": [
       "<Figure size 432x288 with 2 Axes>"
      ]
     },
     "metadata": {
      "needs_background": "light"
     },
     "output_type": "display_data"
    },
    {
     "name": "stdout",
     "output_type": "stream",
     "text": [
      "\n",
      "\n",
      " Validation confusion matrix:\n"
     ]
    },
    {
     "data": {
      "image/png": "[encoded data removed]",
      "text/plain": [
       "<Figure size 432x288 with 2 Axes>"
      ]
     },
     "metadata": {
      "needs_background": "light"
     },
     "output_type": "display_data"
    },
    {
     "name": "stdout",
     "output_type": "stream",
     "text": [
      "\n",
      "-------------------------------------------------------------\n",
      "\n",
      "Training classification report:\n",
      "              precision    recall  f1-score   support\n",
      "\n",
      "           0       1.00      1.00      1.00      7226\n",
      "           1       1.00      1.00      1.00      2770\n",
      "\n",
      "    accuracy                           1.00      9996\n",
      "   macro avg       1.00      1.00      1.00      9996\n",
      "weighted avg       1.00      1.00      1.00      9996\n",
      "\n",
      "\n",
      "\n",
      "Validation classification report:\n",
      "              precision    recall  f1-score   support\n",
      "\n",
      "           0       0.86      0.80      0.83      1807\n",
      "           1       0.56      0.65      0.60       693\n",
      "\n",
      "    accuracy                           0.76      2500\n",
      "   macro avg       0.71      0.73      0.72      2500\n",
      "weighted avg       0.78      0.76      0.77      2500\n",
      "\n"
     ]
    },
    {
     "data": {
      "text/html": [
       "<div>\n",
       "<style scoped>\n",
       "    .dataframe tbody tr th:only-of-type {\n",
       "        vertical-align: middle;\n",
       "    }\n",
       "\n",
       "    .dataframe tbody tr th {\n",
       "        vertical-align: top;\n",
       "    }\n",
       "\n",
       "    .dataframe thead th {\n",
       "        text-align: right;\n",
       "    }\n",
       "</style>\n",
       "<table border=\"1\" class=\"dataframe\">\n",
       "  <thead>\n",
       "    <tr style=\"text-align: right;\">\n",
       "      <th></th>\n",
       "      <th>train</th>\n",
       "      <th>val</th>\n",
       "    </tr>\n",
       "    <tr>\n",
       "      <th>metric</th>\n",
       "      <th></th>\n",
       "      <th></th>\n",
       "    </tr>\n",
       "  </thead>\n",
       "  <tbody>\n",
       "    <tr>\n",
       "      <th>balanced_accuracy</th>\n",
       "      <td>0.997530</td>\n",
       "      <td>0.729164</td>\n",
       "    </tr>\n",
       "    <tr>\n",
       "      <th>precision</th>\n",
       "      <td>0.997469</td>\n",
       "      <td>0.562035</td>\n",
       "    </tr>\n",
       "    <tr>\n",
       "      <th>recall</th>\n",
       "      <td>0.996029</td>\n",
       "      <td>0.653680</td>\n",
       "    </tr>\n",
       "    <tr>\n",
       "      <th>f1</th>\n",
       "      <td>0.996749</td>\n",
       "      <td>0.604403</td>\n",
       "    </tr>\n",
       "    <tr>\n",
       "      <th>roc_auc</th>\n",
       "      <td>0.997530</td>\n",
       "      <td>0.729164</td>\n",
       "    </tr>\n",
       "  </tbody>\n",
       "</table>\n",
       "</div>"
      ],
      "text/plain": [
       "                      train       val\n",
       "metric                               \n",
       "balanced_accuracy  0.997530  0.729164\n",
       "precision          0.997469  0.562035\n",
       "recall             0.996029  0.653680\n",
       "f1                 0.996749  0.604403\n",
       "roc_auc            0.997530  0.729164"
      ]
     },
     "execution_count": 107,
     "metadata": {},
     "output_type": "execute_result"
    }
   ],
   "source": [
    "tf_idf_all(modelknn, class_report=True, plot_confusion_matrix=True)"
   ]
  },
  {
   "attachments": {},
   "cell_type": "markdown",
   "metadata": {},
   "source": [
    "<a class=\"anchor\" id=\"topic05\" /><br>\n",
    "# Step 5: GloVe Embeddings\n",
    "[Back to Index](#index)"
   ]
  },
  {
   "attachments": {},
   "cell_type": "markdown",
   "metadata": {},
   "source": [
    "<a class=\"anchor\" id=\"topic05.01\" /><br>\n",
    "## 5.1 GloVe without reviews"
   ]
  },
  {
   "attachments": {},
   "cell_type": "markdown",
   "metadata": {},
   "source": [
    "#### Trying by generating embeddings for concatenated columns"
   ]
  },
  {
   "cell_type": "code",
   "execution_count": 108,
   "metadata": {},
   "outputs": [],
   "source": [
    "tokenized_X_train_airbnb = tokenize(X_airbnb_train_clean, columns=text_columns_airbnb)\n",
    "tokenized_X_val_airbnb = tokenize(X_airbnb_val_clean, columns=text_columns_airbnb)"
   ]
  },
  {
   "cell_type": "code",
   "execution_count": 109,
   "metadata": {},
   "outputs": [],
   "source": [
    "vocab_dim = 300"
   ]
  },
  {
   "cell_type": "code",
   "execution_count": 110,
   "metadata": {},
   "outputs": [],
   "source": [
    "glove = vocab.GloVe(name='6B', dim=vocab_dim)"
   ]
  },
  {
   "cell_type": "code",
   "execution_count": 111,
   "metadata": {},
   "outputs": [],
   "source": [
    "def get_word(word):\n",
    "    try:\n",
    "        return glove.vectors[glove.stoi[word]]\n",
    "    except:\n",
    "        return torch.zeros(vocab_dim)\n",
    "\n",
    "    \n",
    "def get_embed(tokens):\n",
    "    if len(tokens) == 0:\n",
    "        embedding = torch.zeros(vocab_dim)\n",
    "    else:\n",
    "        sentence_embedding = list(map(lambda x: get_word(x), tokens))\n",
    "        embedding = torch.mean(torch.stack(sentence_embedding), dim=0)\n",
    "    return embedding"
   ]
  },
  {
   "cell_type": "code",
   "execution_count": 112,
   "metadata": {},
   "outputs": [],
   "source": [
    "tokenized_X_train_airbnb['host_and_description']  = tokenized_X_train_airbnb['host_about'] + tokenized_X_train_airbnb['description']\n",
    "tokenized_X_val_airbnb['host_and_description']  = tokenized_X_val_airbnb['host_about']  + tokenized_X_val_airbnb['description']"
   ]
  },
  {
   "cell_type": "code",
   "execution_count": 113,
   "metadata": {},
   "outputs": [],
   "source": [
    "def GloVe_emb(model, plot_confusion_matrix=True, class_report=True):\n",
    "    X_airbnb_train_glove =  tokenized_X_train_airbnb['host_and_description'].apply(lambda x: get_embed(x).numpy()).tolist()\n",
    "    X_airbnb_val_glove =  tokenized_X_val_airbnb['host_and_description'].apply(lambda x: get_embed(x).numpy()).tolist()\n",
    "    \n",
    "    return apply_model(X_train = X_airbnb_train_glove, y_train=y_airbnb_train, X_val= X_airbnb_val_glove, y_val=y_airbnb_val, model = model, metrics=[\"balanced_accuracy\", \"f1\", \"recall\", \"precision\", \"roc_auc\"], plot_confusion_matrix=plot_confusion_matrix, class_report=plot_confusion_matrix)"
   ]
  },
  {
   "cell_type": "code",
   "execution_count": 114,
   "metadata": {},
   "outputs": [
    {
     "name": "stdout",
     "output_type": "stream",
     "text": [
      "Training confusion matrix:\n"
     ]
    },
    {
     "data": {
      "image/png": "[encoded data removed]",
      "text/plain": [
       "<Figure size 432x288 with 2 Axes>"
      ]
     },
     "metadata": {
      "needs_background": "light"
     },
     "output_type": "display_data"
    },
    {
     "name": "stdout",
     "output_type": "stream",
     "text": [
      "\n",
      "\n",
      " Validation confusion matrix:\n"
     ]
    },
    {
     "data": {
      "image/png": "[encoded data removed]",
      "text/plain": [
       "<Figure size 432x288 with 2 Axes>"
      ]
     },
     "metadata": {
      "needs_background": "light"
     },
     "output_type": "display_data"
    },
    {
     "name": "stdout",
     "output_type": "stream",
     "text": [
      "\n",
      "-------------------------------------------------------------\n",
      "\n",
      "Training classification report:\n",
      "              precision    recall  f1-score   support\n",
      "\n",
      "           0       1.00      1.00      1.00      7226\n",
      "           1       0.99      0.99      0.99      2770\n",
      "\n",
      "    accuracy                           1.00      9996\n",
      "   macro avg       0.99      0.99      0.99      9996\n",
      "weighted avg       1.00      1.00      1.00      9996\n",
      "\n",
      "\n",
      "\n",
      "Validation classification report:\n",
      "              precision    recall  f1-score   support\n",
      "\n",
      "           0       0.82      0.91      0.86      1807\n",
      "           1       0.67      0.46      0.55       693\n",
      "\n",
      "    accuracy                           0.79      2500\n",
      "   macro avg       0.74      0.69      0.70      2500\n",
      "weighted avg       0.78      0.79      0.77      2500\n",
      "\n"
     ]
    },
    {
     "data": {
      "text/html": [
       "<div>\n",
       "<style scoped>\n",
       "    .dataframe tbody tr th:only-of-type {\n",
       "        vertical-align: middle;\n",
       "    }\n",
       "\n",
       "    .dataframe tbody tr th {\n",
       "        vertical-align: top;\n",
       "    }\n",
       "\n",
       "    .dataframe thead th {\n",
       "        text-align: right;\n",
       "    }\n",
       "</style>\n",
       "<table border=\"1\" class=\"dataframe\">\n",
       "  <thead>\n",
       "    <tr style=\"text-align: right;\">\n",
       "      <th></th>\n",
       "      <th>train</th>\n",
       "      <th>val</th>\n",
       "    </tr>\n",
       "    <tr>\n",
       "      <th>metric</th>\n",
       "      <th></th>\n",
       "      <th></th>\n",
       "    </tr>\n",
       "  </thead>\n",
       "  <tbody>\n",
       "    <tr>\n",
       "      <th>balanced_accuracy</th>\n",
       "      <td>0.992936</td>\n",
       "      <td>0.687715</td>\n",
       "    </tr>\n",
       "    <tr>\n",
       "      <th>f1</th>\n",
       "      <td>0.991128</td>\n",
       "      <td>0.547476</td>\n",
       "    </tr>\n",
       "    <tr>\n",
       "      <th>recall</th>\n",
       "      <td>0.988087</td>\n",
       "      <td>0.461760</td>\n",
       "    </tr>\n",
       "    <tr>\n",
       "      <th>precision</th>\n",
       "      <td>0.994188</td>\n",
       "      <td>0.672269</td>\n",
       "    </tr>\n",
       "    <tr>\n",
       "      <th>roc_auc</th>\n",
       "      <td>0.992936</td>\n",
       "      <td>0.687715</td>\n",
       "    </tr>\n",
       "  </tbody>\n",
       "</table>\n",
       "</div>"
      ],
      "text/plain": [
       "                      train       val\n",
       "metric                               \n",
       "balanced_accuracy  0.992936  0.687715\n",
       "f1                 0.991128  0.547476\n",
       "recall             0.988087  0.461760\n",
       "precision          0.994188  0.672269\n",
       "roc_auc            0.992936  0.687715"
      ]
     },
     "execution_count": 114,
     "metadata": {},
     "output_type": "execute_result"
    }
   ],
   "source": [
    "GloVe_emb(modelknn, plot_confusion_matrix=True, class_report=True)"
   ]
  },
  {
   "attachments": {},
   "cell_type": "markdown",
   "metadata": {},
   "source": [
    "#### Trying by generating embeddings for each column and then joining them"
   ]
  },
  {
   "cell_type": "code",
   "execution_count": 115,
   "metadata": {},
   "outputs": [
    {
     "name": "stdout",
     "output_type": "stream",
     "text": [
      "Training confusion matrix:\n"
     ]
    },
    {
     "data": {
      "image/png": "[encoded data removed]",
      "text/plain": [
       "<Figure size 432x288 with 2 Axes>"
      ]
     },
     "metadata": {
      "needs_background": "light"
     },
     "output_type": "display_data"
    },
    {
     "name": "stdout",
     "output_type": "stream",
     "text": [
      "\n",
      "\n",
      " Validation confusion matrix:\n"
     ]
    },
    {
     "data": {
      "image/png": "[encoded data removed]",
      "text/plain": [
       "<Figure size 432x288 with 2 Axes>"
      ]
     },
     "metadata": {
      "needs_background": "light"
     },
     "output_type": "display_data"
    },
    {
     "name": "stdout",
     "output_type": "stream",
     "text": [
      "\n",
      "-------------------------------------------------------------\n",
      "\n",
      "Training classification report:\n",
      "              precision    recall  f1-score   support\n",
      "\n",
      "           0       0.99      1.00      1.00      7226\n",
      "           1       1.00      0.99      0.99      2770\n",
      "\n",
      "    accuracy                           0.99      9996\n",
      "   macro avg       1.00      0.99      0.99      9996\n",
      "weighted avg       0.99      0.99      0.99      9996\n",
      "\n",
      "\n",
      "\n",
      "Validation classification report:\n",
      "              precision    recall  f1-score   support\n",
      "\n",
      "           0       0.83      0.89      0.86      1807\n",
      "           1       0.64      0.53      0.58       693\n",
      "\n",
      "    accuracy                           0.79      2500\n",
      "   macro avg       0.74      0.71      0.72      2500\n",
      "weighted avg       0.78      0.79      0.78      2500\n",
      "\n"
     ]
    },
    {
     "data": {
      "text/html": [
       "<div>\n",
       "<style scoped>\n",
       "    .dataframe tbody tr th:only-of-type {\n",
       "        vertical-align: middle;\n",
       "    }\n",
       "\n",
       "    .dataframe tbody tr th {\n",
       "        vertical-align: top;\n",
       "    }\n",
       "\n",
       "    .dataframe thead th {\n",
       "        text-align: right;\n",
       "    }\n",
       "</style>\n",
       "<table border=\"1\" class=\"dataframe\">\n",
       "  <thead>\n",
       "    <tr style=\"text-align: right;\">\n",
       "      <th></th>\n",
       "      <th>train</th>\n",
       "      <th>val</th>\n",
       "    </tr>\n",
       "    <tr>\n",
       "      <th>metric</th>\n",
       "      <th></th>\n",
       "      <th></th>\n",
       "    </tr>\n",
       "  </thead>\n",
       "  <tbody>\n",
       "    <tr>\n",
       "      <th>balanced_accuracy</th>\n",
       "      <td>0.992241</td>\n",
       "      <td>0.707069</td>\n",
       "    </tr>\n",
       "    <tr>\n",
       "      <th>f1</th>\n",
       "      <td>0.990752</td>\n",
       "      <td>0.578656</td>\n",
       "    </tr>\n",
       "    <tr>\n",
       "      <th>recall</th>\n",
       "      <td>0.986282</td>\n",
       "      <td>0.528139</td>\n",
       "    </tr>\n",
       "    <tr>\n",
       "      <th>precision</th>\n",
       "      <td>0.995264</td>\n",
       "      <td>0.639860</td>\n",
       "    </tr>\n",
       "    <tr>\n",
       "      <th>roc_auc</th>\n",
       "      <td>0.992241</td>\n",
       "      <td>0.707069</td>\n",
       "    </tr>\n",
       "  </tbody>\n",
       "</table>\n",
       "</div>"
      ],
      "text/plain": [
       "                      train       val\n",
       "metric                               \n",
       "balanced_accuracy  0.992241  0.707069\n",
       "f1                 0.990752  0.578656\n",
       "recall             0.986282  0.528139\n",
       "precision          0.995264  0.639860\n",
       "roc_auc            0.992241  0.707069"
      ]
     },
     "execution_count": 115,
     "metadata": {},
     "output_type": "execute_result"
    }
   ],
   "source": [
    "X_airbnb_train_glove_df = pd.DataFrame()\n",
    "X_airbnb_val_glove_df = pd.DataFrame()\n",
    "X_airbnb_train_glove_df['host_about']=  tokenized_X_train_airbnb['host_about'].apply(lambda x: get_embed(x).numpy())\n",
    "X_airbnb_train_glove_df['description'] =  tokenized_X_train_airbnb['description'].apply(lambda x: get_embed(x).numpy())\n",
    "X_airbnb_val_glove_df['host_about'] =  tokenized_X_val_airbnb['host_about'].apply(lambda x: get_embed(x).numpy())\n",
    "X_airbnb_val_glove_df['description'] =  tokenized_X_val_airbnb['description'].apply(lambda x: get_embed(x).numpy())\n",
    "\n",
    "X_airbnb_train_glove_df = X_airbnb_train_glove_df.apply(\n",
    "    lambda row: np.concatenate((row['host_about'], row['description'])), axis=1\n",
    ").tolist()\n",
    "X_airbnb_val_glove_df = X_airbnb_val_glove_df.apply(\n",
    "    lambda row: np.concatenate((row['host_about'], row['description'])), axis=1\n",
    ").tolist()\n",
    "apply_model(X_train = X_airbnb_train_glove_df, y_train=y_airbnb_train, X_val= X_airbnb_val_glove_df, y_val=y_airbnb_val, model = modelknn, metrics=[\"balanced_accuracy\", \"f1\", \"recall\", \"precision\", \"roc_auc\"], plot_confusion_matrix=True, class_report=True)"
   ]
  },
  {
   "attachments": {},
   "cell_type": "markdown",
   "metadata": {},
   "source": [
    "#### Trying by generating embeddings for each column and then averaging them"
   ]
  },
  {
   "cell_type": "code",
   "execution_count": 116,
   "metadata": {},
   "outputs": [
    {
     "name": "stdout",
     "output_type": "stream",
     "text": [
      "Training confusion matrix:\n"
     ]
    },
    {
     "data": {
      "image/png": "[encoded data removed]",
      "text/plain": [
       "<Figure size 432x288 with 2 Axes>"
      ]
     },
     "metadata": {
      "needs_background": "light"
     },
     "output_type": "display_data"
    },
    {
     "name": "stdout",
     "output_type": "stream",
     "text": [
      "\n",
      "\n",
      " Validation confusion matrix:\n"
     ]
    },
    {
     "data": {
      "image/png": "[encoded data removed]",
      "text/plain": [
       "<Figure size 432x288 with 2 Axes>"
      ]
     },
     "metadata": {
      "needs_background": "light"
     },
     "output_type": "display_data"
    },
    {
     "name": "stdout",
     "output_type": "stream",
     "text": [
      "\n",
      "-------------------------------------------------------------\n",
      "\n",
      "Training classification report:\n",
      "              precision    recall  f1-score   support\n",
      "\n",
      "           0       1.00      1.00      1.00      7226\n",
      "           1       0.99      0.99      0.99      2770\n",
      "\n",
      "    accuracy                           0.99      9996\n",
      "   macro avg       0.99      0.99      0.99      9996\n",
      "weighted avg       0.99      0.99      0.99      9996\n",
      "\n",
      "\n",
      "\n",
      "Validation classification report:\n",
      "              precision    recall  f1-score   support\n",
      "\n",
      "           0       0.83      0.90      0.86      1807\n",
      "           1       0.66      0.52      0.58       693\n",
      "\n",
      "    accuracy                           0.79      2500\n",
      "   macro avg       0.75      0.71      0.72      2500\n",
      "weighted avg       0.78      0.79      0.78      2500\n",
      "\n"
     ]
    },
    {
     "data": {
      "text/html": [
       "<div>\n",
       "<style scoped>\n",
       "    .dataframe tbody tr th:only-of-type {\n",
       "        vertical-align: middle;\n",
       "    }\n",
       "\n",
       "    .dataframe tbody tr th {\n",
       "        vertical-align: top;\n",
       "    }\n",
       "\n",
       "    .dataframe thead th {\n",
       "        text-align: right;\n",
       "    }\n",
       "</style>\n",
       "<table border=\"1\" class=\"dataframe\">\n",
       "  <thead>\n",
       "    <tr style=\"text-align: right;\">\n",
       "      <th></th>\n",
       "      <th>train</th>\n",
       "      <th>val</th>\n",
       "    </tr>\n",
       "    <tr>\n",
       "      <th>metric</th>\n",
       "      <th></th>\n",
       "      <th></th>\n",
       "    </tr>\n",
       "  </thead>\n",
       "  <tbody>\n",
       "    <tr>\n",
       "      <th>balanced_accuracy</th>\n",
       "      <td>0.993216</td>\n",
       "      <td>0.707938</td>\n",
       "    </tr>\n",
       "    <tr>\n",
       "      <th>f1</th>\n",
       "      <td>0.990428</td>\n",
       "      <td>0.580697</td>\n",
       "    </tr>\n",
       "    <tr>\n",
       "      <th>recall</th>\n",
       "      <td>0.989892</td>\n",
       "      <td>0.516595</td>\n",
       "    </tr>\n",
       "    <tr>\n",
       "      <th>precision</th>\n",
       "      <td>0.990965</td>\n",
       "      <td>0.662963</td>\n",
       "    </tr>\n",
       "    <tr>\n",
       "      <th>roc_auc</th>\n",
       "      <td>0.993216</td>\n",
       "      <td>0.707938</td>\n",
       "    </tr>\n",
       "  </tbody>\n",
       "</table>\n",
       "</div>"
      ],
      "text/plain": [
       "                      train       val\n",
       "metric                               \n",
       "balanced_accuracy  0.993216  0.707938\n",
       "f1                 0.990428  0.580697\n",
       "recall             0.989892  0.516595\n",
       "precision          0.990965  0.662963\n",
       "roc_auc            0.993216  0.707938"
      ]
     },
     "execution_count": 116,
     "metadata": {},
     "output_type": "execute_result"
    }
   ],
   "source": [
    "X_airbnb_train_glove_df = pd.DataFrame()\n",
    "X_airbnb_val_glove_df = pd.DataFrame()\n",
    "X_airbnb_train_glove_df['host_about'] = tokenized_X_train_airbnb['host_about'].apply(lambda x: get_embed(x).numpy())\n",
    "X_airbnb_train_glove_df['description'] = tokenized_X_train_airbnb['description'].apply(lambda x: get_embed(x).numpy())\n",
    "X_airbnb_val_glove_df['host_about'] = tokenized_X_val_airbnb['host_about'].apply(lambda x: get_embed(x).numpy())\n",
    "X_airbnb_val_glove_df['description'] = tokenized_X_val_airbnb['description'].apply(lambda x: get_embed(x).numpy())\n",
    "\n",
    "X_airbnb_train_glove_df['mean_embedding'] = X_airbnb_train_glove_df[['host_about', 'description']].apply(lambda row: np.mean(row), axis=1)\n",
    "X_airbnb_val_glove_df['mean_embedding'] = X_airbnb_val_glove_df[['host_about', 'description']].apply(lambda row: np.mean(row), axis=1)\n",
    "\n",
    "X_airbnb_train_glove_df = X_airbnb_train_glove_df['mean_embedding'].tolist()\n",
    "X_airbnb_val_glove_df = X_airbnb_val_glove_df['mean_embedding'].tolist()\n",
    "\n",
    "apply_model(X_train=X_airbnb_train_glove_df, y_train=y_airbnb_train, X_val=X_airbnb_val_glove_df, y_val=y_airbnb_val, model=modelknn, metrics=[\"balanced_accuracy\", \"f1\", \"recall\", \"precision\", \"roc_auc\"], plot_confusion_matrix=True, class_report=True)"
   ]
  },
  {
   "attachments": {},
   "cell_type": "markdown",
   "metadata": {},
   "source": [
    "<a class=\"anchor\" id=\"topic05.02\" /><br>\n",
    "## 5.2 GloVe with reviews"
   ]
  },
  {
   "attachments": {},
   "cell_type": "markdown",
   "metadata": {},
   "source": [
    "### Reviews as sentiment analysis\n",
    "#### Trying by generating embeddings for concatenated columns"
   ]
  },
  {
   "cell_type": "code",
   "execution_count": 137,
   "metadata": {},
   "outputs": [],
   "source": [
    "def GloVe_emb_together_sent(model, plot_confusion_matrix=True, class_report=True):\n",
    "    X_airbnb_train_glove =  tokenized_X_train_airbnb['host_and_description'].apply(lambda x: get_embed(x).numpy()).tolist()\n",
    "    X_airbnb_val_glove =  tokenized_X_val_airbnb['host_and_description'].apply(lambda x: get_embed(x).numpy()).tolist()\n",
    "    \n",
    "    j=0\n",
    "    for i in X_airbnb_train_clean_sent.index.tolist():\n",
    "        # Get the sentiment value for the current array\n",
    "        sentiment_train = X_airbnb_train_clean_sent['sentiment'][i]\n",
    "        # Append the sentiment value to the end of the array\n",
    "        X_airbnb_train_glove[j] = np.append(X_airbnb_train_glove[j], sentiment_train)\n",
    "        j+=1\n",
    "        \n",
    "    j=0\n",
    "    for i in X_airbnb_val_clean_sent.index.tolist():\n",
    "        # Get the sentiment value for the current array\n",
    "        sentiment_val = X_airbnb_val_clean_sent['sentiment'][i]\n",
    "        # Append the sentiment value to the end of the array\n",
    "        X_airbnb_val_glove[j] = np.append(X_airbnb_val_glove[j], sentiment_val)\n",
    "        j+=1\n",
    "        \n",
    "    return apply_model(X_train = X_airbnb_train_glove, y_train=y_airbnb_train, X_val= X_airbnb_val_glove, y_val=y_airbnb_val, model = model, metrics=[\"balanced_accuracy\", \"f1\", \"recall\", \"precision\", \"roc_auc\"], plot_confusion_matrix=plot_confusion_matrix, class_report=plot_confusion_matrix)"
   ]
  },
  {
   "cell_type": "code",
   "execution_count": 138,
   "metadata": {},
   "outputs": [
    {
     "name": "stdout",
     "output_type": "stream",
     "text": [
      "Training confusion matrix:\n"
     ]
    },
    {
     "data": {
      "image/png": "[encoded data removed]",
      "text/plain": [
       "<Figure size 432x288 with 2 Axes>"
      ]
     },
     "metadata": {
      "needs_background": "light"
     },
     "output_type": "display_data"
    },
    {
     "name": "stdout",
     "output_type": "stream",
     "text": [
      "\n",
      "\n",
      " Validation confusion matrix:\n"
     ]
    },
    {
     "data": {
      "image/png": "[encoded data removed]",
      "text/plain": [
       "<Figure size 432x288 with 2 Axes>"
      ]
     },
     "metadata": {
      "needs_background": "light"
     },
     "output_type": "display_data"
    },
    {
     "name": "stdout",
     "output_type": "stream",
     "text": [
      "\n",
      "-------------------------------------------------------------\n",
      "\n",
      "Training classification report:\n",
      "              precision    recall  f1-score   support\n",
      "\n",
      "           0       1.00      1.00      1.00      7226\n",
      "           1       1.00      1.00      1.00      2770\n",
      "\n",
      "    accuracy                           1.00      9996\n",
      "   macro avg       1.00      1.00      1.00      9996\n",
      "weighted avg       1.00      1.00      1.00      9996\n",
      "\n",
      "\n",
      "\n",
      "Validation classification report:\n",
      "              precision    recall  f1-score   support\n",
      "\n",
      "           0       0.84      0.71      0.77      1807\n",
      "           1       0.46      0.65      0.54       693\n",
      "\n",
      "    accuracy                           0.69      2500\n",
      "   macro avg       0.65      0.68      0.65      2500\n",
      "weighted avg       0.74      0.69      0.71      2500\n",
      "\n"
     ]
    },
    {
     "data": {
      "text/html": [
       "<div>\n",
       "<style scoped>\n",
       "    .dataframe tbody tr th:only-of-type {\n",
       "        vertical-align: middle;\n",
       "    }\n",
       "\n",
       "    .dataframe tbody tr th {\n",
       "        vertical-align: top;\n",
       "    }\n",
       "\n",
       "    .dataframe thead th {\n",
       "        text-align: right;\n",
       "    }\n",
       "</style>\n",
       "<table border=\"1\" class=\"dataframe\">\n",
       "  <thead>\n",
       "    <tr style=\"text-align: right;\">\n",
       "      <th></th>\n",
       "      <th>train</th>\n",
       "      <th>val</th>\n",
       "    </tr>\n",
       "    <tr>\n",
       "      <th>metric</th>\n",
       "      <th></th>\n",
       "      <th></th>\n",
       "    </tr>\n",
       "  </thead>\n",
       "  <tbody>\n",
       "    <tr>\n",
       "      <th>balanced_accuracy</th>\n",
       "      <td>0.997350</td>\n",
       "      <td>0.680297</td>\n",
       "    </tr>\n",
       "    <tr>\n",
       "      <th>f1</th>\n",
       "      <td>0.996567</td>\n",
       "      <td>0.540670</td>\n",
       "    </tr>\n",
       "    <tr>\n",
       "      <th>recall</th>\n",
       "      <td>0.995668</td>\n",
       "      <td>0.652237</td>\n",
       "    </tr>\n",
       "    <tr>\n",
       "      <th>precision</th>\n",
       "      <td>0.997468</td>\n",
       "      <td>0.461696</td>\n",
       "    </tr>\n",
       "    <tr>\n",
       "      <th>roc_auc</th>\n",
       "      <td>0.997350</td>\n",
       "      <td>0.680297</td>\n",
       "    </tr>\n",
       "  </tbody>\n",
       "</table>\n",
       "</div>"
      ],
      "text/plain": [
       "                      train       val\n",
       "metric                               \n",
       "balanced_accuracy  0.997350  0.680297\n",
       "f1                 0.996567  0.540670\n",
       "recall             0.995668  0.652237\n",
       "precision          0.997468  0.461696\n",
       "roc_auc            0.997350  0.680297"
      ]
     },
     "execution_count": 138,
     "metadata": {},
     "output_type": "execute_result"
    }
   ],
   "source": [
    "GloVe_emb_together_sent(modelknn, plot_confusion_matrix=True, class_report=True)"
   ]
  },
  {
   "attachments": {},
   "cell_type": "markdown",
   "metadata": {},
   "source": [
    "### Reviews as embeddings\n",
    "#### Trying by generating embeddings for concatenated columns"
   ]
  },
  {
   "cell_type": "code",
   "execution_count": 139,
   "metadata": {},
   "outputs": [],
   "source": [
    "X_concat_lang_train = X_concat_train.copy()\n",
    "X_concat_lang_val = X_concat_val.copy()\n",
    "X_concat_lang_train['comments_lang'] = pd.Series(dtype='str')\n",
    "X_concat_lang_val['comments_lang'] = pd.Series(dtype='str')\n",
    "X_concat_lang_train['comments_lang'] = X_concat_lang_train['comments_lang'].fillna('')\n",
    "X_concat_lang_val['comments_lang'] = X_concat_lang_val['comments_lang'].fillna('')"
   ]
  },
  {
   "cell_type": "code",
   "execution_count": 140,
   "metadata": {},
   "outputs": [],
   "source": [
    "tokenized_X_concat_train = tokenize(X_concat_lang_train, columns=text_columns_airbnb+text_columns_reviews)\n",
    "tokenized_X_concat_val = tokenize(X_concat_lang_val, columns=text_columns_airbnb+text_columns_reviews)"
   ]
  },
  {
   "cell_type": "code",
   "execution_count": 141,
   "metadata": {},
   "outputs": [],
   "source": [
    "tokenized_X_concat_train['host_and_description_com']  = tokenized_X_concat_train['host_about'] + tokenized_X_concat_train['description'] + tokenized_X_concat_train['comments']\n",
    "tokenized_X_concat_val['host_and_description_com']  = tokenized_X_concat_val['host_about']  + tokenized_X_concat_val['description'] + tokenized_X_concat_val['comments']"
   ]
  },
  {
   "cell_type": "code",
   "execution_count": 142,
   "metadata": {},
   "outputs": [],
   "source": [
    "def GloVe_emb_all(model, plot_confusion_matrix=True, class_report=True):\n",
    "    X_airbnb_train_glove =  tokenized_X_concat_train['host_and_description_com'].apply(lambda x: get_embed(x).numpy()).tolist()\n",
    "    X_airbnb_val_glove =  tokenized_X_concat_val['host_and_description_com'].apply(lambda x: get_embed(x).numpy()).tolist()\n",
    "    \n",
    "    return apply_model(X_train = X_airbnb_train_glove, y_train=y_airbnb_train, X_val= X_airbnb_val_glove, y_val=y_airbnb_val, model = model, metrics=[\"balanced_accuracy\", \"f1\", \"recall\", \"precision\", \"roc_auc\"], plot_confusion_matrix=plot_confusion_matrix, class_report=plot_confusion_matrix)"
   ]
  },
  {
   "cell_type": "code",
   "execution_count": 143,
   "metadata": {},
   "outputs": [
    {
     "name": "stdout",
     "output_type": "stream",
     "text": [
      "Training confusion matrix:\n"
     ]
    },
    {
     "data": {
      "image/png": "[encoded data removed]",
      "text/plain": [
       "<Figure size 432x288 with 2 Axes>"
      ]
     },
     "metadata": {
      "needs_background": "light"
     },
     "output_type": "display_data"
    },
    {
     "name": "stdout",
     "output_type": "stream",
     "text": [
      "\n",
      "\n",
      " Validation confusion matrix:\n"
     ]
    },
    {
     "data": {
      "image/png": "[encoded data removed]",
      "text/plain": [
       "<Figure size 432x288 with 2 Axes>"
      ]
     },
     "metadata": {
      "needs_background": "light"
     },
     "output_type": "display_data"
    },
    {
     "name": "stdout",
     "output_type": "stream",
     "text": [
      "\n",
      "-------------------------------------------------------------\n",
      "\n",
      "Training classification report:\n",
      "              precision    recall  f1-score   support\n",
      "\n",
      "           0       1.00      1.00      1.00      7226\n",
      "           1       1.00      1.00      1.00      2770\n",
      "\n",
      "    accuracy                           1.00      9996\n",
      "   macro avg       1.00      1.00      1.00      9996\n",
      "weighted avg       1.00      1.00      1.00      9996\n",
      "\n",
      "\n",
      "\n",
      "Validation classification report:\n",
      "              precision    recall  f1-score   support\n",
      "\n",
      "           0       0.83      0.78      0.80      1807\n",
      "           1       0.50      0.57      0.53       693\n",
      "\n",
      "    accuracy                           0.72      2500\n",
      "   macro avg       0.66      0.68      0.67      2500\n",
      "weighted avg       0.74      0.72      0.73      2500\n",
      "\n"
     ]
    },
    {
     "data": {
      "text/html": [
       "<div>\n",
       "<style scoped>\n",
       "    .dataframe tbody tr th:only-of-type {\n",
       "        vertical-align: middle;\n",
       "    }\n",
       "\n",
       "    .dataframe tbody tr th {\n",
       "        vertical-align: top;\n",
       "    }\n",
       "\n",
       "    .dataframe thead th {\n",
       "        text-align: right;\n",
       "    }\n",
       "</style>\n",
       "<table border=\"1\" class=\"dataframe\">\n",
       "  <thead>\n",
       "    <tr style=\"text-align: right;\">\n",
       "      <th></th>\n",
       "      <th>train</th>\n",
       "      <th>val</th>\n",
       "    </tr>\n",
       "    <tr>\n",
       "      <th>metric</th>\n",
       "      <th></th>\n",
       "      <th></th>\n",
       "    </tr>\n",
       "  </thead>\n",
       "  <tbody>\n",
       "    <tr>\n",
       "      <th>balanced_accuracy</th>\n",
       "      <td>0.997864</td>\n",
       "      <td>0.675696</td>\n",
       "    </tr>\n",
       "    <tr>\n",
       "      <th>f1</th>\n",
       "      <td>0.996752</td>\n",
       "      <td>0.532704</td>\n",
       "    </tr>\n",
       "    <tr>\n",
       "      <th>recall</th>\n",
       "      <td>0.997112</td>\n",
       "      <td>0.569986</td>\n",
       "    </tr>\n",
       "    <tr>\n",
       "      <th>precision</th>\n",
       "      <td>0.996392</td>\n",
       "      <td>0.500000</td>\n",
       "    </tr>\n",
       "    <tr>\n",
       "      <th>roc_auc</th>\n",
       "      <td>0.997864</td>\n",
       "      <td>0.675696</td>\n",
       "    </tr>\n",
       "  </tbody>\n",
       "</table>\n",
       "</div>"
      ],
      "text/plain": [
       "                      train       val\n",
       "metric                               \n",
       "balanced_accuracy  0.997864  0.675696\n",
       "f1                 0.996752  0.532704\n",
       "recall             0.997112  0.569986\n",
       "precision          0.996392  0.500000\n",
       "roc_auc            0.997864  0.675696"
      ]
     },
     "execution_count": 143,
     "metadata": {},
     "output_type": "execute_result"
    }
   ],
   "source": [
    "GloVe_emb_all(modelknn, plot_confusion_matrix=True, class_report=True)"
   ]
  },
  {
   "attachments": {},
   "cell_type": "markdown",
   "metadata": {},
   "source": [
    "#### Trying by generating embeddings for each column and then averaging them"
   ]
  },
  {
   "cell_type": "code",
   "execution_count": 144,
   "metadata": {},
   "outputs": [
    {
     "name": "stdout",
     "output_type": "stream",
     "text": [
      "Training confusion matrix:\n"
     ]
    },
    {
     "data": {
      "image/png": "[encoded data removed]",
      "text/plain": [
       "<Figure size 432x288 with 2 Axes>"
      ]
     },
     "metadata": {
      "needs_background": "light"
     },
     "output_type": "display_data"
    },
    {
     "name": "stdout",
     "output_type": "stream",
     "text": [
      "\n",
      "\n",
      " Validation confusion matrix:\n"
     ]
    },
    {
     "data": {
      "image/png": "[encoded data removed]",
      "text/plain": [
       "<Figure size 432x288 with 2 Axes>"
      ]
     },
     "metadata": {
      "needs_background": "light"
     },
     "output_type": "display_data"
    },
    {
     "name": "stdout",
     "output_type": "stream",
     "text": [
      "\n",
      "-------------------------------------------------------------\n",
      "\n",
      "Training classification report:\n",
      "              precision    recall  f1-score   support\n",
      "\n",
      "           0       1.00      1.00      1.00      7226\n",
      "           1       1.00      1.00      1.00      2770\n",
      "\n",
      "    accuracy                           1.00      9996\n",
      "   macro avg       1.00      1.00      1.00      9996\n",
      "weighted avg       1.00      1.00      1.00      9996\n",
      "\n",
      "\n",
      "\n",
      "Validation classification report:\n",
      "              precision    recall  f1-score   support\n",
      "\n",
      "           0       0.82      0.88      0.85      1807\n",
      "           1       0.62      0.51      0.56       693\n",
      "\n",
      "    accuracy                           0.78      2500\n",
      "   macro avg       0.72      0.70      0.71      2500\n",
      "weighted avg       0.77      0.78      0.77      2500\n",
      "\n"
     ]
    },
    {
     "data": {
      "text/html": [
       "<div>\n",
       "<style scoped>\n",
       "    .dataframe tbody tr th:only-of-type {\n",
       "        vertical-align: middle;\n",
       "    }\n",
       "\n",
       "    .dataframe tbody tr th {\n",
       "        vertical-align: top;\n",
       "    }\n",
       "\n",
       "    .dataframe thead th {\n",
       "        text-align: right;\n",
       "    }\n",
       "</style>\n",
       "<table border=\"1\" class=\"dataframe\">\n",
       "  <thead>\n",
       "    <tr style=\"text-align: right;\">\n",
       "      <th></th>\n",
       "      <th>train</th>\n",
       "      <th>val</th>\n",
       "    </tr>\n",
       "    <tr>\n",
       "      <th>metric</th>\n",
       "      <th></th>\n",
       "      <th></th>\n",
       "    </tr>\n",
       "  </thead>\n",
       "  <tbody>\n",
       "    <tr>\n",
       "      <th>balanced_accuracy</th>\n",
       "      <td>0.997864</td>\n",
       "      <td>0.696257</td>\n",
       "    </tr>\n",
       "    <tr>\n",
       "      <th>f1</th>\n",
       "      <td>0.996752</td>\n",
       "      <td>0.561514</td>\n",
       "    </tr>\n",
       "    <tr>\n",
       "      <th>recall</th>\n",
       "      <td>0.997112</td>\n",
       "      <td>0.513709</td>\n",
       "    </tr>\n",
       "    <tr>\n",
       "      <th>precision</th>\n",
       "      <td>0.996392</td>\n",
       "      <td>0.619130</td>\n",
       "    </tr>\n",
       "    <tr>\n",
       "      <th>roc_auc</th>\n",
       "      <td>0.997864</td>\n",
       "      <td>0.696257</td>\n",
       "    </tr>\n",
       "  </tbody>\n",
       "</table>\n",
       "</div>"
      ],
      "text/plain": [
       "                      train       val\n",
       "metric                               \n",
       "balanced_accuracy  0.997864  0.696257\n",
       "f1                 0.996752  0.561514\n",
       "recall             0.997112  0.513709\n",
       "precision          0.996392  0.619130\n",
       "roc_auc            0.997864  0.696257"
      ]
     },
     "execution_count": 144,
     "metadata": {},
     "output_type": "execute_result"
    }
   ],
   "source": [
    "X_airbnb_train_glove_df = pd.DataFrame()\n",
    "X_airbnb_val_glove_df = pd.DataFrame()\n",
    "X_airbnb_train_glove_df['host_about'] = tokenized_X_concat_train['host_about'].apply(lambda x: get_embed(x).numpy())\n",
    "X_airbnb_train_glove_df['description'] = tokenized_X_concat_train['description'].apply(lambda x: get_embed(x).numpy())\n",
    "X_airbnb_train_glove_df['comments'] = tokenized_X_concat_train['comments'].apply(lambda x: get_embed(x).numpy())\n",
    "\n",
    "X_airbnb_val_glove_df['host_about'] = tokenized_X_concat_val['host_about'].apply(lambda x: get_embed(x).numpy())\n",
    "X_airbnb_val_glove_df['description'] = tokenized_X_concat_val['description'].apply(lambda x: get_embed(x).numpy())\n",
    "X_airbnb_val_glove_df['comments'] = tokenized_X_concat_val['comments'].apply(lambda x: get_embed(x).numpy())\n",
    "\n",
    "X_airbnb_train_glove_df['mean_embedding'] = X_airbnb_train_glove_df[['host_about', 'description', 'comments']].apply(lambda row: np.mean(row), axis=1)\n",
    "X_airbnb_val_glove_df['mean_embedding'] = X_airbnb_val_glove_df[['host_about', 'description', 'comments']].apply(lambda row: np.mean(row), axis=1)\n",
    "\n",
    "X_airbnb_train_glove_df = X_airbnb_train_glove_df['mean_embedding'].tolist()\n",
    "X_airbnb_val_glove_df = X_airbnb_val_glove_df['mean_embedding'].tolist()\n",
    "\n",
    "apply_model(X_train=X_airbnb_train_glove_df, y_train=y_airbnb_train, X_val=X_airbnb_val_glove_df, y_val=y_airbnb_val, model=modelknn, metrics=[\"balanced_accuracy\", \"f1\", \"recall\", \"precision\", \"roc_auc\"], plot_confusion_matrix=True, class_report=True)"
   ]
  },
  {
   "attachments": {},
   "cell_type": "markdown",
   "metadata": {},
   "source": [
    "<a class=\"anchor\" id=\"topic06\" /><br>\n",
    "# Step 6: FastText Embeddings\n",
    "[Back to Index](#index)"
   ]
  },
  {
   "attachments": {},
   "cell_type": "markdown",
   "metadata": {},
   "source": [
    "<a class=\"anchor\" id=\"topic06.01\" /><br>\n",
    "## 6.1 FastText without reviews"
   ]
  },
  {
   "attachments": {},
   "cell_type": "markdown",
   "metadata": {},
   "source": [
    "#### Trying by generating embeddings for concatenated columns"
   ]
  },
  {
   "cell_type": "code",
   "execution_count": 145,
   "metadata": {},
   "outputs": [],
   "source": [
    "w2v = gensim.downloader.load('fasttext-wiki-news-subwords-300')"
   ]
  },
  {
   "cell_type": "code",
   "execution_count": 146,
   "metadata": {},
   "outputs": [],
   "source": [
    "def get_word_ft(word):\n",
    "    try:\n",
    "        return torch.tensor(w2v[word])\n",
    "    except:\n",
    "        return torch.zeros(vocab_dim)\n",
    "\n",
    "\n",
    "def get_embed_ft(tokens):\n",
    "    if len(tokens) == 0:\n",
    "        embedding = torch.zeros(vocab_dim)\n",
    "    else:\n",
    "        sentence_embedding = list(map(lambda x: get_word_ft(x), tokens))\n",
    "        embedding = torch.mean(torch.stack(sentence_embedding), dim=0)\n",
    "    return embedding"
   ]
  },
  {
   "cell_type": "code",
   "execution_count": 147,
   "metadata": {},
   "outputs": [
    {
     "name": "stdout",
     "output_type": "stream",
     "text": [
      "Training confusion matrix:\n"
     ]
    },
    {
     "data": {
      "image/png": "[encoded data removed]",
      "text/plain": [
       "<Figure size 432x288 with 2 Axes>"
      ]
     },
     "metadata": {
      "needs_background": "light"
     },
     "output_type": "display_data"
    },
    {
     "name": "stdout",
     "output_type": "stream",
     "text": [
      "\n",
      "\n",
      " Validation confusion matrix:\n"
     ]
    },
    {
     "data": {
      "image/png": "[encoded data removed]",
      "text/plain": [
       "<Figure size 432x288 with 2 Axes>"
      ]
     },
     "metadata": {
      "needs_background": "light"
     },
     "output_type": "display_data"
    },
    {
     "name": "stdout",
     "output_type": "stream",
     "text": [
      "\n",
      "-------------------------------------------------------------\n",
      "\n",
      "Training classification report:\n",
      "              precision    recall  f1-score   support\n",
      "\n",
      "           0       1.00      1.00      1.00      7226\n",
      "           1       0.99      0.99      0.99      2770\n",
      "\n",
      "    accuracy                           0.99      9996\n",
      "   macro avg       0.99      0.99      0.99      9996\n",
      "weighted avg       0.99      0.99      0.99      9996\n",
      "\n",
      "\n",
      "\n",
      "Validation classification report:\n",
      "              precision    recall  f1-score   support\n",
      "\n",
      "           0       0.81      0.91      0.86      1807\n",
      "           1       0.66      0.46      0.54       693\n",
      "\n",
      "    accuracy                           0.78      2500\n",
      "   macro avg       0.73      0.68      0.70      2500\n",
      "weighted avg       0.77      0.78      0.77      2500\n",
      "\n"
     ]
    },
    {
     "data": {
      "text/html": [
       "<div>\n",
       "<style scoped>\n",
       "    .dataframe tbody tr th:only-of-type {\n",
       "        vertical-align: middle;\n",
       "    }\n",
       "\n",
       "    .dataframe tbody tr th {\n",
       "        vertical-align: top;\n",
       "    }\n",
       "\n",
       "    .dataframe thead th {\n",
       "        text-align: right;\n",
       "    }\n",
       "</style>\n",
       "<table border=\"1\" class=\"dataframe\">\n",
       "  <thead>\n",
       "    <tr style=\"text-align: right;\">\n",
       "      <th></th>\n",
       "      <th>train</th>\n",
       "      <th>val</th>\n",
       "    </tr>\n",
       "    <tr>\n",
       "      <th>metric</th>\n",
       "      <th></th>\n",
       "      <th></th>\n",
       "    </tr>\n",
       "  </thead>\n",
       "  <tbody>\n",
       "    <tr>\n",
       "      <th>balanced_accuracy</th>\n",
       "      <td>0.993258</td>\n",
       "      <td>0.682783</td>\n",
       "    </tr>\n",
       "    <tr>\n",
       "      <th>f1</th>\n",
       "      <td>0.990253</td>\n",
       "      <td>0.539116</td>\n",
       "    </tr>\n",
       "    <tr>\n",
       "      <th>recall</th>\n",
       "      <td>0.990253</td>\n",
       "      <td>0.457431</td>\n",
       "    </tr>\n",
       "    <tr>\n",
       "      <th>precision</th>\n",
       "      <td>0.990253</td>\n",
       "      <td>0.656315</td>\n",
       "    </tr>\n",
       "    <tr>\n",
       "      <th>roc_auc</th>\n",
       "      <td>0.993258</td>\n",
       "      <td>0.682783</td>\n",
       "    </tr>\n",
       "  </tbody>\n",
       "</table>\n",
       "</div>"
      ],
      "text/plain": [
       "                      train       val\n",
       "metric                               \n",
       "balanced_accuracy  0.993258  0.682783\n",
       "f1                 0.990253  0.539116\n",
       "recall             0.990253  0.457431\n",
       "precision          0.990253  0.656315\n",
       "roc_auc            0.993258  0.682783"
      ]
     },
     "execution_count": 147,
     "metadata": {},
     "output_type": "execute_result"
    }
   ],
   "source": [
    "X_airbnb_train_ft =  tokenized_X_train_airbnb['host_and_description'].apply(lambda x: get_embed_ft(x).numpy()).tolist()\n",
    "X_airbnb_val_ft =  tokenized_X_val_airbnb['host_and_description'].apply(lambda x: get_embed_ft(x).numpy()).tolist()\n",
    "apply_model(X_train = X_airbnb_train_ft, y_train=y_airbnb_train, X_val= X_airbnb_val_ft, y_val=y_airbnb_val, model = modelknn, metrics=[\"balanced_accuracy\", \"f1\", \"recall\", \"precision\", \"roc_auc\"], plot_confusion_matrix=True, class_report=True)"
   ]
  },
  {
   "attachments": {},
   "cell_type": "markdown",
   "metadata": {},
   "source": [
    "#### Trying by generating embeddings for each column and then averaging them"
   ]
  },
  {
   "cell_type": "code",
   "execution_count": 166,
   "metadata": {},
   "outputs": [
    {
     "name": "stdout",
     "output_type": "stream",
     "text": [
      "Training confusion matrix:\n"
     ]
    },
    {
     "data": {
      "image/png": "[encoded data removed]",
      "text/plain": [
       "<Figure size 432x288 with 2 Axes>"
      ]
     },
     "metadata": {
      "needs_background": "light"
     },
     "output_type": "display_data"
    },
    {
     "name": "stdout",
     "output_type": "stream",
     "text": [
      "\n",
      "\n",
      " Validation confusion matrix:\n"
     ]
    },
    {
     "data": {
      "image/png": "[encoded data removed]",
      "text/plain": [
       "<Figure size 432x288 with 2 Axes>"
      ]
     },
     "metadata": {
      "needs_background": "light"
     },
     "output_type": "display_data"
    },
    {
     "name": "stdout",
     "output_type": "stream",
     "text": [
      "\n",
      "-------------------------------------------------------------\n",
      "\n",
      "Training classification report:\n",
      "              precision    recall  f1-score   support\n",
      "\n",
      "           0       1.00      0.97      0.98      7226\n",
      "           1       0.92      1.00      0.96      2770\n",
      "\n",
      "    accuracy                           0.98      9996\n",
      "   macro avg       0.96      0.98      0.97      9996\n",
      "weighted avg       0.98      0.98      0.98      9996\n",
      "\n",
      "\n",
      "\n",
      "Validation classification report:\n",
      "              precision    recall  f1-score   support\n",
      "\n",
      "           0       0.85      0.77      0.81      1807\n",
      "           1       0.52      0.63      0.57       693\n",
      "\n",
      "    accuracy                           0.74      2500\n",
      "   macro avg       0.68      0.70      0.69      2500\n",
      "weighted avg       0.76      0.74      0.74      2500\n",
      "\n"
     ]
    },
    {
     "data": {
      "text/html": [
       "<div>\n",
       "<style scoped>\n",
       "    .dataframe tbody tr th:only-of-type {\n",
       "        vertical-align: middle;\n",
       "    }\n",
       "\n",
       "    .dataframe tbody tr th {\n",
       "        vertical-align: top;\n",
       "    }\n",
       "\n",
       "    .dataframe thead th {\n",
       "        text-align: right;\n",
       "    }\n",
       "</style>\n",
       "<table border=\"1\" class=\"dataframe\">\n",
       "  <thead>\n",
       "    <tr style=\"text-align: right;\">\n",
       "      <th></th>\n",
       "      <th>train</th>\n",
       "      <th>val</th>\n",
       "    </tr>\n",
       "    <tr>\n",
       "      <th>metric</th>\n",
       "      <th></th>\n",
       "      <th></th>\n",
       "    </tr>\n",
       "  </thead>\n",
       "  <tbody>\n",
       "    <tr>\n",
       "      <th>balanced_accuracy</th>\n",
       "      <td>0.983447</td>\n",
       "      <td>0.703400</td>\n",
       "    </tr>\n",
       "    <tr>\n",
       "      <th>f1</th>\n",
       "      <td>0.959113</td>\n",
       "      <td>0.569571</td>\n",
       "    </tr>\n",
       "    <tr>\n",
       "      <th>recall</th>\n",
       "      <td>0.999278</td>\n",
       "      <td>0.632035</td>\n",
       "    </tr>\n",
       "    <tr>\n",
       "      <th>precision</th>\n",
       "      <td>0.922052</td>\n",
       "      <td>0.518343</td>\n",
       "    </tr>\n",
       "    <tr>\n",
       "      <th>roc_auc</th>\n",
       "      <td>0.983447</td>\n",
       "      <td>0.703400</td>\n",
       "    </tr>\n",
       "  </tbody>\n",
       "</table>\n",
       "</div>"
      ],
      "text/plain": [
       "                      train       val\n",
       "metric                               \n",
       "balanced_accuracy  0.983447  0.703400\n",
       "f1                 0.959113  0.569571\n",
       "recall             0.999278  0.632035\n",
       "precision          0.922052  0.518343\n",
       "roc_auc            0.983447  0.703400"
      ]
     },
     "execution_count": 166,
     "metadata": {},
     "output_type": "execute_result"
    }
   ],
   "source": [
    "X_airbnb_train_ft_df = pd.DataFrame()\n",
    "X_airbnb_val_ft_df = pd.DataFrame()\n",
    "X_airbnb_train_ft_df['host_about'] = tokenized_X_train_airbnb['host_about'].apply(lambda x: get_embed_ft(x).numpy())\n",
    "X_airbnb_train_ft_df['description'] = tokenized_X_train_airbnb['description'].apply(lambda x: get_embed_ft(x).numpy())\n",
    "X_airbnb_val_ft_df['host_about'] = tokenized_X_val_airbnb['host_about'].apply(lambda x: get_embed_ft(x).numpy())\n",
    "X_airbnb_val_ft_df['description'] = tokenized_X_val_airbnb['description'].apply(lambda x: get_embed_ft(x).numpy())\n",
    "\n",
    "X_airbnb_train_ft_df['mean_embedding'] = X_airbnb_train_ft_df[['host_about', 'description']].apply(lambda row: np.mean(row), axis=1)\n",
    "X_airbnb_val_ft_df['mean_embedding'] = X_airbnb_val_ft_df[['host_about', 'description']].apply(lambda row: np.mean(row), axis=1)\n",
    "\n",
    "X_airbnb_train_ft_df = X_airbnb_train_ft_df['mean_embedding'].tolist()\n",
    "X_airbnb_val_ft_df = X_airbnb_val_ft_df['mean_embedding'].tolist()\n",
    "\n",
    "apply_model(X_train=X_airbnb_train_ft_df, y_train=y_airbnb_train, X_val=X_airbnb_val_ft_df, y_val=y_airbnb_val, model=brf, metrics=[\"balanced_accuracy\", \"f1\", \"recall\", \"precision\", \"roc_auc\"], plot_confusion_matrix=True, class_report=True)"
   ]
  },
  {
   "attachments": {},
   "cell_type": "markdown",
   "metadata": {},
   "source": [
    "<a class=\"anchor\" id=\"topic07\" /><br>\n",
    "# Step 7: Test predictions\n",
    "[Back to Index](#index)"
   ]
  },
  {
   "cell_type": "code",
   "execution_count": null,
   "metadata": {},
   "outputs": [],
   "source": [
    "X_airbnb_train, X_airbnb_val, y_airbnb_train, y_airbnb_val = train_test_split(airbnb_df_train.drop(['unlisted'], axis=1),\n",
    "                                                                              airbnb_df_train['unlisted'],\n",
    "                                                                              test_size=0.2, \n",
    "                                                                              train_size=0.8,\n",
    "                                                                              random_state=42,\n",
    "                                                                              shuffle=True,\n",
    "                                                                              stratify=airbnb_df_train['unlisted'])"
   ]
  },
  {
   "cell_type": "code",
   "execution_count": null,
   "metadata": {},
   "outputs": [],
   "source": [
    "# applying the preprocessing to the training dataset\n",
    "\n",
    "X_airbnb_train_clean = pipelinefunc(X_airbnb_train,\n",
    "             columns = text_columns_airbnb,\n",
    "             conv_emoji=False\n",
    "             )\n",
    "X_airbnb_train_clean.fillna('', inplace=True)\n",
    "\n",
    "X_airbnb_train_clean.set_index('index', inplace=True)\n",
    "\n",
    "X_reviews_train = reviews_df_train[reviews_df_train['index'].isin(X_airbnb_train.index)]\n",
    "X_reviews_train.reset_index(drop=True, inplace=True)\n",
    "\n",
    "X_reviews_train_clean =  pipelinefunc(X_reviews_train,\n",
    "             columns = text_columns_reviews,\n",
    "             removeemoji=False\n",
    "             )\n",
    "X_reviews_train_clean.fillna('', inplace=True)\n",
    "\n",
    "X_reviews_train_clean['comments'] = X_reviews_train_clean['comments'].astype('str')\n",
    "\n",
    "reviews_sentiment_train = sentiment_reviews(X_reviews_train_clean,columns=text_columns_reviews)\n",
    "\n",
    "reviews_sentiment_train_byIndex = reviews_sentiment_train.groupby('index', as_index=True)['sentiment'].mean()\n",
    "X_airbnb_train_clean_sent = X_airbnb_train_clean.join(reviews_sentiment_train_byIndex.rename('sentiment'))\n",
    "X_airbnb_train_clean_sent['sentiment'] = X_airbnb_train_clean_sent['sentiment'].fillna(0)"
   ]
  },
  {
   "cell_type": "code",
   "execution_count": 20,
   "metadata": {},
   "outputs": [
    {
     "name": "stdout",
     "output_type": "stream",
     "text": [
      "html done\n",
      "lowercase done\n",
      "contraction done\n",
      "punctuation done\n",
      "remove_emoji done\n",
      "detect_language done\n",
      "digits done\n",
      "stopwords done\n",
      "lematize done\n",
      "Airbnb Test Cleaned\n",
      "html done\n",
      "lowercase done\n",
      "contraction done\n",
      "punctuation done\n",
      "detect_language done\n",
      "conv_emoji done\n",
      "punctuation 2 done\n",
      "digits done\n",
      "stopwords done\n",
      "lematize done\n",
      "Airbnb Reviews Cleaned\n"
     ]
    },
    {
     "name": "stderr",
     "output_type": "stream",
     "text": [
      "Sentiment Analysis of comments: 100%|██████████| 80877/80877 [03:22<00:00, 399.47it/s] \n"
     ]
    }
   ],
   "source": [
    "# applying the preprocessing to the test dataset\n",
    "\n",
    "X_airbnb_test_clean =  pipelinefunc(airbnb_df_test,\n",
    "             columns = text_columns_airbnb,\n",
    "             conv_emoji=False\n",
    "             )\n",
    "X_airbnb_test_clean.fillna('', inplace=True)\n",
    "\n",
    "print('Airbnb Test Cleaned')\n",
    "\n",
    "X_reviews_test_clean =  pipelinefunc(reviews_df_test,\n",
    "             columns = text_columns_reviews,\n",
    "             removeemoji=False\n",
    "             )\n",
    "X_reviews_test_clean.fillna('', inplace=True)\n",
    "\n",
    "print('Airbnb Reviews Cleaned')\n",
    "\n",
    "X_reviews_test_clean['comments'] = X_reviews_test_clean['comments'].astype('str')\n",
    "\n",
    "reviews_sentiment_test = sentiment_reviews(X_reviews_test_clean,columns=text_columns_reviews)\n",
    "\n",
    "reviews_sentiment_test_byIndex = reviews_sentiment_test.groupby('index', as_index=True)['sentiment'].mean()\n",
    "\n",
    "X_airbnb_test_clean_sent = X_airbnb_test_clean.join(reviews_sentiment_test_byIndex.rename('sentiment'))\n",
    "X_airbnb_test_clean_sent['sentiment'] = X_airbnb_test_clean_sent['sentiment'].fillna(0)"
   ]
  },
  {
   "cell_type": "code",
   "execution_count": 23,
   "metadata": {},
   "outputs": [],
   "source": [
    "# function to generate predictions\n",
    "\n",
    "def tf_idf_sentiment_test_predicitons(model, class_report=True, plot_confusion_matrix=True, vprint=False):\n",
    "    transformer = FeatureUnion([\n",
    "                    ('host_about_tfidf', \n",
    "                      Pipeline([('extract_field',\n",
    "                                  FunctionTransformer(lambda x: x['host_about'], \n",
    "                                                      validate=False)),\n",
    "                                ('tfidf', \n",
    "                                  TfidfVectorizer())])),\n",
    "                    ('description_tfidf', \n",
    "                      Pipeline([('extract_field', \n",
    "                                  FunctionTransformer(lambda x: x['description'], \n",
    "                                                      validate=False)),\n",
    "                                ('tfidf', \n",
    "                                  TfidfVectorizer())]))]) \n",
    "\n",
    "    tfidf_airbnb_train = transformer.fit_transform(X_airbnb_train_clean)\n",
    "    tfidf_array_train = tfidf_airbnb_train.toarray()\n",
    "    tfidf_df_train = pd.DataFrame(tfidf_array_train, index=X_airbnb_train_clean.index)\n",
    "    tfidf_df_train['sentiment'] = X_airbnb_train_clean_sent['sentiment']\n",
    "    tfidf_with_sentiment_train = sparse.csr_matrix(tfidf_df_train.values)\n",
    "    \n",
    "    tfidf_airbnb_test = transformer.transform(X_airbnb_test_clean)\n",
    "    tfidf_array_test = tfidf_airbnb_test.toarray()\n",
    "    tfidf_df_test = pd.DataFrame(tfidf_array_test, index=X_airbnb_test_clean.index)\n",
    "    tfidf_df_test['sentiment'] = X_airbnb_test_clean_sent['sentiment']\n",
    "    tfidf_with_sentiment_test = sparse.csr_matrix(tfidf_df_test.values)\n",
    "\n",
    "\n",
    "    model_fitted = model.fit(tfidf_with_sentiment_train, y_airbnb_train)\n",
    "    y_test_pred = model_fitted.predict(tfidf_with_sentiment_test)\n",
    "\n",
    "    return y_test_pred\n"
   ]
  },
  {
   "cell_type": "code",
   "execution_count": 32,
   "metadata": {},
   "outputs": [],
   "source": [
    "predictions = tf_idf_sentiment_test_predicitons(modelknn)"
   ]
  },
  {
   "cell_type": "code",
   "execution_count": 43,
   "metadata": {},
   "outputs": [],
   "source": [
    "pd.DataFrame(predictions).to_csv('Predictions_15.csv')"
   ]
  }
 ],
 "metadata": {
  "kernelspec": {
   "display_name": "Python 3",
   "language": "python",
   "name": "python3"
  },
  "language_info": {
   "codemirror_mode": {
    "name": "ipython",
    "version": 3
   },
   "file_extension": ".py",
   "mimetype": "text/x-python",
   "name": "python",
   "nbconvert_exporter": "python",
   "pygments_lexer": "ipython3",
   "version": "3.9.16"
  }
 },
 "nbformat": 4,
 "nbformat_minor": 4
}
